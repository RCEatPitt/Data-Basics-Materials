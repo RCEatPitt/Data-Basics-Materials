{
 "cells": [
  {
   "cell_type": "markdown",
   "metadata": {},
   "source": [
    "#### EXERCISE: Exploring other `ls` Flags\n",
    "\n",
    "What does the command `ls` do when used with the `-l` and `-h` flags?\n",
    "Some of its output is about properties that we do not cover in this lesson (such\n",
    "as file permissions and ownership), but the rest should be useful\n",
    "nevertheless."
   ]
  },
  {
   "cell_type": "code",
   "execution_count": null,
   "metadata": {},
   "outputs": [],
   "source": []
  },
  {
   "cell_type": "code",
   "execution_count": null,
   "metadata": {},
   "outputs": [],
   "source": []
  },
  {
   "cell_type": "code",
   "execution_count": null,
   "metadata": {},
   "outputs": [],
   "source": []
  },
  {
   "cell_type": "code",
   "execution_count": null,
   "metadata": {},
   "outputs": [],
   "source": []
  },
  {
   "cell_type": "code",
   "execution_count": null,
   "metadata": {},
   "outputs": [],
   "source": []
  },
  {
   "cell_type": "code",
   "execution_count": null,
   "metadata": {},
   "outputs": [],
   "source": []
  },
  {
   "cell_type": "code",
   "execution_count": null,
   "metadata": {},
   "outputs": [],
   "source": []
  },
  {
   "cell_type": "code",
   "execution_count": null,
   "metadata": {},
   "outputs": [],
   "source": []
  },
  {
   "cell_type": "code",
   "execution_count": null,
   "metadata": {},
   "outputs": [],
   "source": []
  },
  {
   "cell_type": "code",
   "execution_count": null,
   "metadata": {},
   "outputs": [],
   "source": []
  },
  {
   "cell_type": "markdown",
   "metadata": {},
   "source": [
    "#### Solution\n",
    "The `-l` flag makes `ls` use a *long* listing format, showing not only\n",
    "the file/directory names but also additional information such as the file size\n",
    "and the time of its last modification. The `-h` flag makes the file size\n",
    "\"*human* readable\", i.e. display something like `5.3K` instead of `5369`."
   ]
  },
  {
   "cell_type": "markdown",
   "metadata": {},
   "source": [
    "#### EXERCISE: Absolute vs Relative Paths\n",
    "\n",
    "Starting from `/ihome/mburton/mcburton/data-basics-fall-2018`,\n",
    "which of the following commands could mcburton use to navigate to her home directory,\n",
    "which is `/ihome/mburton/mcburton/data-basics-fall-2018`?\n",
    "\n",
    "1. `cd .`\n",
    "2. `cd /`\n",
    "3. `cd /home/mcburton`\n",
    "4. `cd ../..`\n",
    "5. `cd ~`\n",
    "6. `cd home`\n",
    "7. `cd ~/data/..`\n",
    "8. `cd`\n",
    "9. `cd ..`"
   ]
  },
  {
   "cell_type": "code",
   "execution_count": null,
   "metadata": {},
   "outputs": [],
   "source": []
  },
  {
   "cell_type": "code",
   "execution_count": null,
   "metadata": {},
   "outputs": [],
   "source": []
  },
  {
   "cell_type": "code",
   "execution_count": null,
   "metadata": {},
   "outputs": [],
   "source": []
  },
  {
   "cell_type": "code",
   "execution_count": null,
   "metadata": {},
   "outputs": [],
   "source": []
  },
  {
   "cell_type": "code",
   "execution_count": null,
   "metadata": {},
   "outputs": [],
   "source": []
  },
  {
   "cell_type": "code",
   "execution_count": null,
   "metadata": {},
   "outputs": [],
   "source": []
  },
  {
   "cell_type": "code",
   "execution_count": null,
   "metadata": {},
   "outputs": [],
   "source": []
  },
  {
   "cell_type": "code",
   "execution_count": null,
   "metadata": {},
   "outputs": [],
   "source": []
  },
  {
   "cell_type": "code",
   "execution_count": null,
   "metadata": {},
   "outputs": [],
   "source": []
  },
  {
   "cell_type": "markdown",
   "metadata": {},
   "source": [
    "#### Solution\n",
    "\n",
    "\n",
    "1. No: `.` stands for the current directory.\n",
    "2. No: `/` stands for the root directory.\n",
    "3. No: mcburton's home directory is `/ihome/mburton/mcburton`.\n",
    "4. No: this goes up two levels, i.e. ends in `/ihome/mburton`.\n",
    "5. Yes: `~` stands for the user's home directory, in this case `/ihome/mburton/mcburton`.\n",
    "6. No: this would navigate into a directory `home` in the current directory if it exists.\n",
    "7. Yes: unnecessarily complicated, but correct.\n",
    "8. Yes: shortcut to go back to the user's home directory.\n",
    "9. Yes: goes up one level."
   ]
  },
  {
   "cell_type": "markdown",
   "metadata": {},
   "source": [
    "#### EXERCISE: Relative Path Resolution\n",
    "\n",
    "![File System for Challenge Questions](https://swcarpentry.github.io/shell-novice/fig/filesystem-challenge.svg)\n",
    "\n",
    "Using the filesystem diagram above, if `pwd` displays `/Users/thing`,\n",
    "what will `ls -F ../backup` display?\n",
    "\n",
    "1.  `../backup: No such file or directory`\n",
    "2.  `2012-12-01 2013-01-08 2013-01-27`\n",
    "3.  `2012-12-01/ 2013-01-08/ 2013-01-27/`\n",
    "4.  `original/ pnas_final/ pnas_sub/`"
   ]
  },
  {
   "cell_type": "code",
   "execution_count": null,
   "metadata": {},
   "outputs": [],
   "source": []
  },
  {
   "cell_type": "code",
   "execution_count": null,
   "metadata": {},
   "outputs": [],
   "source": []
  },
  {
   "cell_type": "code",
   "execution_count": null,
   "metadata": {},
   "outputs": [],
   "source": []
  },
  {
   "cell_type": "code",
   "execution_count": null,
   "metadata": {},
   "outputs": [],
   "source": []
  },
  {
   "cell_type": "code",
   "execution_count": null,
   "metadata": {},
   "outputs": [],
   "source": []
  },
  {
   "cell_type": "code",
   "execution_count": null,
   "metadata": {},
   "outputs": [],
   "source": []
  },
  {
   "cell_type": "code",
   "execution_count": null,
   "metadata": {},
   "outputs": [],
   "source": []
  },
  {
   "cell_type": "code",
   "execution_count": null,
   "metadata": {},
   "outputs": [],
   "source": []
  },
  {
   "cell_type": "code",
   "execution_count": null,
   "metadata": {},
   "outputs": [],
   "source": []
  },
  {
   "cell_type": "code",
   "execution_count": null,
   "metadata": {},
   "outputs": [],
   "source": []
  },
  {
   "cell_type": "markdown",
   "metadata": {},
   "source": [
    "#### Solution\n",
    "1. No: there *is* a directory `backup` in `/Users`.\n",
    "2. No: this is the content of `Users/thing/backup`,\n",
    "   but with `..` we asked for one level further up.\n",
    "3. No: see previous explanation.\n",
    "4. Yes: `../backup/` refers to `/Users/backup/`.\n"
   ]
  },
  {
   "cell_type": "markdown",
   "metadata": {},
   "source": [
    "## `ls` Reading Comprehension\n",
    "\n",
    "\n",
    "![File System for Challenge Questions](https://swcarpentry.github.io/shell-novice/fig/filesystem-challenge.svg)\n",
    "\n",
    "Assuming a directory structure as in the above, if `pwd` displays `/Users/backup`,\n",
    "and `-r` tells `ls` to display things in reverse order,\n",
    "what command will display:\n",
    "\n",
    "~~~\n",
    "pnas_sub/ pnas_final/ original/\n",
    "~~~\n",
    "\n",
    "1.  `ls pwd`\n",
    "2.  `ls -r -F`\n",
    "3.  `ls -r -F /Users/backup`\n",
    "4.  Either #2 or #3 above, but not #1."
   ]
  },
  {
   "cell_type": "code",
   "execution_count": null,
   "metadata": {},
   "outputs": [],
   "source": []
  },
  {
   "cell_type": "code",
   "execution_count": null,
   "metadata": {},
   "outputs": [],
   "source": []
  },
  {
   "cell_type": "code",
   "execution_count": null,
   "metadata": {},
   "outputs": [],
   "source": []
  },
  {
   "cell_type": "code",
   "execution_count": null,
   "metadata": {},
   "outputs": [],
   "source": []
  },
  {
   "cell_type": "code",
   "execution_count": null,
   "metadata": {},
   "outputs": [],
   "source": []
  },
  {
   "cell_type": "code",
   "execution_count": null,
   "metadata": {},
   "outputs": [],
   "source": []
  },
  {
   "cell_type": "code",
   "execution_count": null,
   "metadata": {},
   "outputs": [],
   "source": []
  },
  {
   "cell_type": "code",
   "execution_count": null,
   "metadata": {},
   "outputs": [],
   "source": []
  },
  {
   "cell_type": "code",
   "execution_count": null,
   "metadata": {},
   "outputs": [],
   "source": []
  },
  {
   "cell_type": "code",
   "execution_count": null,
   "metadata": {},
   "outputs": [],
   "source": []
  },
  {
   "cell_type": "markdown",
   "metadata": {},
   "source": [
    "#### Solution\n",
    " 1. No: `pwd` is not the name of a directory.\n",
    " 2. Yes: `ls` without directory argument lists files and directories\n",
    "    in the current directory.\n",
    " 3. Yes: uses the absolute path explicitly.\n",
    " 4. Correct: see explanations above."
   ]
  }
 ],
 "metadata": {
  "kernelspec": {
   "display_name": "Python 3",
   "language": "python",
   "name": "python3"
  },
  "language_info": {
   "codemirror_mode": {
    "name": "ipython",
    "version": 3
   },
   "file_extension": ".py",
   "mimetype": "text/x-python",
   "name": "python",
   "nbconvert_exporter": "python",
   "pygments_lexer": "ipython3",
   "version": "3.6.3"
  }
 },
 "nbformat": 4,
 "nbformat_minor": 2
}
