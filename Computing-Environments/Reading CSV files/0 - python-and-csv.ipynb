{
 "cells": [
  {
   "cell_type": "markdown",
   "metadata": {},
   "source": [
    "# Catching up on the Python\n",
    "\n"
   ]
  },
  {
   "cell_type": "code",
   "execution_count": null,
   "metadata": {},
   "outputs": [],
   "source": []
  },
  {
   "cell_type": "code",
   "execution_count": null,
   "metadata": {},
   "outputs": [],
   "source": []
  },
  {
   "cell_type": "code",
   "execution_count": null,
   "metadata": {},
   "outputs": [],
   "source": []
  },
  {
   "cell_type": "code",
   "execution_count": null,
   "metadata": {},
   "outputs": [],
   "source": []
  },
  {
   "cell_type": "markdown",
   "metadata": {},
   "source": [
    "## Working with files line by line\n",
    "\n",
    "* When you have files with data on each line, especially large files, you can loop over them \n",
    "* Just like iterating over lists, you can iterate over files\n",
    "* Python reads the contents of the file until it hits \"\\n\" and then it puts that in the loop variable\n",
    "* Useful for working with *extremely large* files because you only store one line in memory at a time"
   ]
  },
  {
   "cell_type": "code",
   "execution_count": null,
   "metadata": {},
   "outputs": [],
   "source": [
    "file_handler = open(\"test.txt\", 'r')\n",
    "for line in file_handler:\n",
    "    print(line)\n",
    "file_handler.close()"
   ]
  },
  {
   "cell_type": "markdown",
   "metadata": {},
   "source": [
    "### Reading Data Files\n",
    "\n",
    "* A file handler is not the file, it is a pointer to the file\n",
    "* This is how python can work with HUGE files\n",
    "* We can process large files line by line (assuming there are multiple lines)\n",
    "* Each line gets treated as a separate string"
   ]
  },
  {
   "cell_type": "code",
   "execution_count": null,
   "metadata": {},
   "outputs": [],
   "source": [
    "# use the unix command head to see the first 25 lines of the file\n",
    "!head -n 25 diabetes.csv"
   ]
  },
  {
   "cell_type": "markdown",
   "metadata": {},
   "source": [
    "* Lets count the lines of the file"
   ]
  },
  {
   "cell_type": "code",
   "execution_count": null,
   "metadata": {},
   "outputs": [],
   "source": [
    "# count the number of lines in the text file\n",
    "file_handler = open('diabetes.csv', 'r')\n",
    "count = 0\n",
    "for line in file_handler:\n",
    "    count = count + 1\n",
    "    #count+=1\n",
    "file_handler.close()\n",
    "print(count)"
   ]
  },
  {
   "cell_type": "markdown",
   "metadata": {},
   "source": [
    "## Reading in all the data\n",
    "\n",
    "* Why don't we read every line of the file into memory as a list"
   ]
  },
  {
   "cell_type": "code",
   "execution_count": null,
   "metadata": {},
   "outputs": [],
   "source": [
    "# create an empty list to store each line\n",
    "data = [] \n",
    "\n",
    "# count the number of lines in the text file\n",
    "file_handler = open('diabetes.csv', 'r')\n",
    "for line in file_handler:\n",
    "    # use the append function to add each line\n",
    "    data.append(line)\n",
    "file_handler.close() # close the file handler now that we are done.\n",
    "\n",
    "print(\"Length:\", len(data))\n",
    "print(\"First 10 lines:\", data[0:10])\n"
   ]
  },
  {
   "cell_type": "markdown",
   "metadata": {},
   "source": [
    "## Working With CSV Files\n",
    "\n",
    "* CSV files are used to store a large number of variables – or data. They are incredibly simplified spreadsheets – think Excel – only the content is stored in plaintext.\n",
    "* Python has a CSV parser as part of the standard library\n",
    "* To parse CSV files, we use the csv module.\n",
    "* The csv module provides a number of built-in functions to make it easier to parse and iterate through CSV files."
   ]
  },
  {
   "cell_type": "code",
   "execution_count": null,
   "metadata": {
    "collapsed": true
   },
   "outputs": [],
   "source": [
    "#  load the CSV module \n",
    "import csv\n",
    "\n",
    "# open the diabetes file\n",
    "diabetes_file = open(\"diabetes.csv\")"
   ]
  },
  {
   "cell_type": "markdown",
   "metadata": {},
   "source": [
    "* Now we need to tell Python that the file stored in diabetes_file variable should be read as and interpreted as a CSV file. \n",
    "*  We do that by calling on the `reader()` function of the csv module"
   ]
  },
  {
   "cell_type": "code",
   "execution_count": null,
   "metadata": {
    "collapsed": true
   },
   "outputs": [],
   "source": [
    "# Create a CSV reader \n",
    "diabetes_data = csv.reader(diabetes_file)"
   ]
  },
  {
   "cell_type": "markdown",
   "metadata": {},
   "source": [
    "* At this point, the entire CSV file is treated as a table - a collection of rows and columns\n",
    "* We can iterate (loop) through this table and get access to each individual row, just like the line-by-line above\n",
    "* But CSV automatically splits it all into different values!"
   ]
  },
  {
   "cell_type": "code",
   "execution_count": null,
   "metadata": {},
   "outputs": [],
   "source": [
    "# loop over the file and print the row contents\n",
    "for row in diabetes_data:\n",
    "    print(row)\n",
    "    "
   ]
  },
  {
   "cell_type": "markdown",
   "metadata": {},
   "source": [
    "* You probably noticed that the row variable is just a list - it is a list of values contained in each column.\n",
    "* You can access individual columns exactly the same way you would access values in a list.\n",
    "* For example, the value of cholesterol is in a column called 'chol', which is a second column and therefore has the index of 1"
   ]
  },
  {
   "cell_type": "code",
   "execution_count": null,
   "metadata": {
    "scrolled": false
   },
   "outputs": [],
   "source": [
    "# Since we already iterated through the CSV file once, we need to tell Python to start at the beginning again\n",
    "# This action is called 'resetting the read position of the file object'\n",
    "# It basically is like re-opening the file\n",
    "diabetes_file.seek(0) \n",
    "\n",
    "for row in diabetes_data:\n",
    "    print(row[1]) # print only the values for the chol column"
   ]
  },
  {
   "cell_type": "markdown",
   "metadata": {},
   "source": [
    "* You probably also noticed that the first row does not contain data - it's just the column headers\n",
    "* In order for us to do any mathematical or statistical operations on the data, we need to EXCLUDE the header\n",
    "* We have to skip the header row. We can do this with the `next()` function to separate the header rows"
   ]
  },
  {
   "cell_type": "code",
   "execution_count": null,
   "metadata": {},
   "outputs": [],
   "source": [
    "# One way to do this is with a counter variable\n",
    "\n",
    "diabetes_file.seek(0) # Reset the read position of the file object\n",
    "\n",
    "# use next to skip the header row\n",
    "headers = next(diabetes_file)\n",
    "print(headers)\n",
    "\n",
    "# now we can iterate through just the data values\n",
    "for row in diabetes_data:\n",
    "    print(row[1]) # print only the values for the chol column\n"
   ]
  },
  {
   "cell_type": "markdown",
   "metadata": {},
   "source": [
    "## CSV files - Challenge 1\n",
    "\n",
    "Calculate the _average_ and the _highest (max)_ cholesterol value based on the data available in the dataset.\n"
   ]
  },
  {
   "cell_type": "code",
   "execution_count": null,
   "metadata": {
    "collapsed": true
   },
   "outputs": [],
   "source": [
    "# Step 1: Import csv module\n",
    "import csv"
   ]
  },
  {
   "cell_type": "code",
   "execution_count": null,
   "metadata": {
    "collapsed": true
   },
   "outputs": [],
   "source": [
    "# Step 2: Read the csv file\n",
    "diabetes_file = open(\"diabetes.csv\")\n",
    "diabetes_data = csv.reader(diabetes_file)"
   ]
  },
  {
   "cell_type": "code",
   "execution_count": null,
   "metadata": {},
   "outputs": [],
   "source": [
    "# Step 3: Iterate through csv data\n",
    "\n",
    "diabetes_file.seek(0) # Reset the read position of the file object\n",
    "headers = next(diabetes_file)\n",
    "diabetes_data = csv.reader(diabetes_file)\n",
    "\n",
    "# Hint: you'll need to declare variables to store average and maximum cholesterol here (outside of the loop)\n",
    "# Hint: You might want to check and see if the data actually exists!\n",
    "for row in diabetes_data:\n",
    "    \n",
    "    # replace this code with your average a max calculation code\n",
    "    print(row[1]) # print only the values for the chol column"
   ]
  },
  {
   "cell_type": "code",
   "execution_count": null,
   "metadata": {},
   "outputs": [],
   "source": []
  },
  {
   "cell_type": "code",
   "execution_count": null,
   "metadata": {},
   "outputs": [],
   "source": []
  },
  {
   "cell_type": "code",
   "execution_count": null,
   "metadata": {},
   "outputs": [],
   "source": []
  },
  {
   "cell_type": "code",
   "execution_count": null,
   "metadata": {},
   "outputs": [],
   "source": []
  },
  {
   "cell_type": "markdown",
   "metadata": {},
   "source": [
    "## CSV files - Challenge 1 Solution\n",
    "\n",
    "Calculate the _average_ and the _highest (max)_ cholesterol value based on the data available in the dataset.\n"
   ]
  },
  {
   "cell_type": "code",
   "execution_count": null,
   "metadata": {
    "collapsed": true
   },
   "outputs": [],
   "source": [
    "# Step 1: Import csv module\n",
    "import csv"
   ]
  },
  {
   "cell_type": "code",
   "execution_count": null,
   "metadata": {
    "collapsed": true
   },
   "outputs": [],
   "source": [
    "# Step 2: Read the csv file\n",
    "diabetes_file = open(\"diabetes.csv\")\n",
    "diabetes_data = csv.reader(diabetes_file)"
   ]
  },
  {
   "cell_type": "code",
   "execution_count": null,
   "metadata": {},
   "outputs": [],
   "source": [
    "# Step 3: Iterate through csv data\n",
    "\n",
    "diabetes_file.seek(0) # Reset the read position of the file object\n",
    "headers = next(diabetes_file)\n",
    "\n",
    "count = 0 # Initialize a temporary counter\n",
    "total_chol = 0\n",
    "max_chol = 0\n",
    "\n",
    "# Hint: you'll need to declare variables to store average and maximum cholesterol here (outside of the loop)\n",
    "# Hint: You might want to check and see if the data actually exists!\n",
    "for row in diabetes_data:\n",
    "    \n",
    "    # make sure there is a data value in the row\n",
    "    if row[1] != \"\":            \n",
    "        # convert the value to a number\n",
    "        chol = int(row[1])\n",
    "            \n",
    "        # tabulate the total chol\n",
    "        total_chol = total_chol + chol\n",
    "        count = count + 1\n",
    "            \n",
    "        # check if the current value is the max\n",
    "        if  chol > max_chol:\n",
    "            # set the new max \n",
    "            max_chol = chol\n",
    "\n",
    "print(\"Total: \" , total_chol)\n",
    "print(\"Count: \" , count)\n",
    "\n",
    "avg_chol = total_chol / count\n",
    "\n",
    "print(\"Average: \", avg_chol)\n",
    "print(\"Max:\", max_chol)"
   ]
  },
  {
   "cell_type": "code",
   "execution_count": null,
   "metadata": {},
   "outputs": [],
   "source": []
  }
 ],
 "metadata": {
  "kernelspec": {
   "display_name": "Python 3.7",
   "language": "python",
   "name": "python3"
  },
  "language_info": {
   "codemirror_mode": {
    "name": "ipython",
    "version": 3
   },
   "file_extension": ".py",
   "mimetype": "text/x-python",
   "name": "python",
   "nbconvert_exporter": "python",
   "pygments_lexer": "ipython3",
   "version": "3.7.0"
  }
 },
 "nbformat": 4,
 "nbformat_minor": 2
}
