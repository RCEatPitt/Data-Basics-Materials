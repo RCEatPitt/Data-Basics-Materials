{
 "cells": [
  {
   "cell_type": "markdown",
   "metadata": {},
   "source": [
    "# Working With Files and Directories\n",
    "\n",
    "### Questions\n",
    "* How can I create, copy, and delete files and directories?\n",
    "* How can I edit files?\n",
    "\n",
    "### Objectives\n",
    "* Create a directory hierarchy that matches a given diagram.\n",
    "* Create files in that hierarchy using an editor or by copying and renaming existing files.\n",
    "* Delete, copy and move specified files and/or directories."
   ]
  },
  {
   "cell_type": "markdown",
   "metadata": {},
   "source": [
    "We now know how to explore files and directories,\n",
    "but how do we create them in the first place?\n",
    "Let's go back to our `data-shell` directory in the data-basics folder\n",
    "and use `ls -F` to see what it contains:\n",
    "\n",
    "~~~\n",
    "$ pwd\n",
    "~~~\n",
    "\n",
    "~~~\n",
    "/ihome/mburton/mcburton/data-basics-fall-2018/data-shell\n",
    "~~~\n",
    "\n",
    "~~~\n",
    "$ ls -F\n",
    "~~~\n",
    "\n",
    "~~~\n",
    "creatures/  data/  molecules/  north-pacific-gyre/  notes.txt  pizza.cfg  solar.pdf  writing/\n",
    "~~~\n",
    "\n",
    "Let's create a new directory called `thesis` using the command `mkdir thesis`\n",
    "(which has no output):\n",
    "\n",
    "~~~\n",
    "$ mkdir thesis\n",
    "~~~\n",
    "\n",
    "As you might guess from its name,\n",
    "`mkdir` means \"make directory\".\n",
    "Since `thesis` is a relative path\n",
    "(i.e., doesn't have a leading slash),\n",
    "the new directory is created in the current working directory:\n",
    "\n",
    "~~~\n",
    "$ ls -F\n",
    "~~~\n",
    "\n",
    "~~~\n",
    "creatures/  data/  molecules/  north-pacific-gyre/  notes.txt  pizza.cfg  solar.pdf  thesis/  writing/\n",
    "~~~"
   ]
  },
  {
   "cell_type": "markdown",
   "metadata": {},
   "source": [
    "> #### Two ways of doing the same thing\n",
    "> Using the shell to create a directory is no different than using a file explorer.\n",
    "> If you open the current directory using your operating system's graphical file explorer,\n",
    "> the `thesis` directory will appear there too.\n",
    "> While they are two different ways of interacting with the files,\n",
    "> the files and directories themselves are the same.\n",
    "\n",
    "> #### Good names for files and directories\n",
    ">\n",
    "> Complicated names of files and directories can make your life painful\n",
    "> when working on the command line. Here we provide a few useful\n",
    "> tips for the names of your files.\n",
    ">\n",
    "> 1. Don't use whitespaces.\n",
    ">\n",
    ">    Whitespaces can make a name more meaningful\n",
    ">    but since whitespace is used to break arguments on the command line\n",
    ">    it is better to avoid them in names of files and directories.\n",
    ">    You can use `-` or `_` instead of whitespace.\n",
    ">\n",
    "> 2. Don't begin the name with `-` (dash).\n",
    ">\n",
    ">    Commands treat names starting with `-` as options.\n",
    ">\n",
    "> 3. Stick with letters, numbers, `.` (period or 'full stop'), `-` (dash) and `_` (underscore).\n",
    ">\n",
    ">    Many other characters have special meanings on the command line.\n",
    ">    We will learn about some of these during this lesson.\n",
    ">    There are special characters that can cause your command to not work as\n",
    ">    expected and can even result in data loss.\n",
    ">\n",
    "> If you need to refer to names of files or directories that have whitespace\n",
    "> or another non-alphanumeric character, you should surround the name in quotes (`\"\"`)."
   ]
  },
  {
   "cell_type": "markdown",
   "metadata": {},
   "source": [
    "Since we've just created the `thesis` directory, there's nothing in it yet:\n",
    "\n",
    "~~~\n",
    "$ ls -F thesis\n",
    "~~~\n",
    "\n",
    "Let's change our working directory to `thesis` using `cd`,\n",
    "then run a text editor called Nano to create a file called `draft.txt`:\n",
    "\n",
    "~~~\n",
    "$ cd thesis\n",
    "$ vim draft.txt\n",
    "~~~"
   ]
  },
  {
   "cell_type": "markdown",
   "metadata": {},
   "source": [
    "> #### Which Editor?\n",
    ">\n",
    "> When we say, \"`vim` is a text editor,\" we really do mean \"text\": it can\n",
    "> only work with plain character data, not tables, images, or any other\n",
    "> human-friendly media. We use it in examples because it is always installed on every unix system. However, it is *extremely* difficult to use. On Unix systems (such as Linux and Mac OS X),\n",
    "> many programmers use [Emacs](http://www.gnu.org/software/emacs/) or\n",
    "> [Nano](https://www.nano-editor.org/). Because we are using JupyterLab we can just use Jupyter's [built in text editor](https://jupyterlab.readthedocs.io/en/stable/user/file_editor.html), but for the purposes of this lesson we are going to do everything on the terminal.\n",
    ">\n",
    "> We are using vim because it is the only terminal editor currently installed on the supercomputer."
   ]
  },
  {
   "cell_type": "markdown",
   "metadata": {},
   "source": [
    "You are now in the Vim editor. To begin entering text, you must first type the `i` key to enter *insert mode* (you know you are in this mode when you see `-- INSERT --` on the bottom of the terminal window.\n",
    "\n",
    "Let's type in a few lines of text, just don't hit the escape key...yet.\n",
    "Once we're happy with our text, we can press `esc` and type `:wq` to write our text to the `draft.txt` file on disk.\n",
    "\n",
    "~~~\n",
    "$ ls\n",
    "~~~\n",
    "\n",
    "~~~\n",
    "draft.txt\n",
    "~~~"
   ]
  }
 ],
 "metadata": {
  "kernelspec": {
   "display_name": "Python 3",
   "language": "python",
   "name": "python3"
  },
  "language_info": {
   "codemirror_mode": {
    "name": "ipython",
    "version": 3
   },
   "file_extension": ".py",
   "mimetype": "text/x-python",
   "name": "python",
   "nbconvert_exporter": "python",
   "pygments_lexer": "ipython3",
   "version": "3.6.3"
  }
 },
 "nbformat": 4,
 "nbformat_minor": 2
}
