{
 "cells": [
  {
   "cell_type": "markdown",
   "metadata": {},
   "source": [
    "# Ski Trip\n",
    "\n",
    "This program considers a number of variables that, when used in conditional statements, will determine whether or not our skiier, Bob, can go on his ski trip <br>\n",
    "\n",
    "The program provides values for how much it snowed outside (int), whether or not the slope is open (boolean), whether or not his skis are sharpened (boolean), and whether or not the roads were salted the night before (boolean). Bob is only interested in skiing if there are at least 6 inches of fresh powder on the slopes. He can't drive to the slopes if there were more than 12 inches of snowfall unless the roads were salted the night before - if they were, he can drive in up to 18 inches of snowfall. <br>\n",
    "\n",
    "Using the above facts, the program will set the variables and determine whether or not Bob can ski today.\n",
    "\n",
    "## Challenge\n",
    "\n",
    "Now the program will consider whether or not Bob is sick. If he is, he will not go skiing. Declare a new boolean variable to represent this new fact and add the new logic into the conditional below."
   ]
  },
  {
   "cell_type": "code",
   "execution_count": 1,
   "metadata": {
    "collapsed": true
   },
   "outputs": [],
   "source": [
    "# Set variables such that there were 16 inches of snowfall, Bob's skis are sharpened, the slope is open, \n",
    "# and the roads are salted\n",
    "SNOWFALL = 16\n",
    "\n",
    "SKIS_SHARPENED = True\n",
    "SLOPE_OPEN = True\n",
    "ROADS_SALTED = True"
   ]
  },
  {
   "cell_type": "code",
   "execution_count": 2,
   "metadata": {
    "collapsed": true
   },
   "outputs": [],
   "source": [
    "# We will also use a variable of our own, BOB_SKIS, as a flag to help us output the result later\n",
    "BOB_SKIS = False"
   ]
  },
  {
   "cell_type": "code",
   "execution_count": 3,
   "metadata": {},
   "outputs": [],
   "source": [
    "# First, determine whether or not Bob can ski using nested conditional statements. By setting BOB_SKIS to False above, \n",
    "# we only need to evaluate for the cases in which Bob can ski. If we don't meet those conditions, our result will \n",
    "# already evaluate to false!\n",
    "if SKIS_SHARPENED == True:\n",
    "    if SLOPE_OPEN == True:\n",
    "        if ROADS_SALTED == True:\n",
    "            if (SNOWFALL >= 6 and SNOWFALL <= 18):\n",
    "                BOB_SKIS = True\n",
    "        else:\n",
    "            if (SNOWFALL >= 6 and SNOWFALL <= 12):\n",
    "                BOB_SKIS = True"
   ]
  },
  {
   "cell_type": "code",
   "execution_count": 4,
   "metadata": {},
   "outputs": [
    {
     "name": "stdout",
     "output_type": "stream",
     "text": [
      "Bob will go skiing today!\n"
     ]
    }
   ],
   "source": [
    "# Finally, we will use one more conditional to print the result\n",
    "if BOB_SKIS == True:\n",
    "    print(\"Bob will go skiing today!\")\n",
    "else:\n",
    "    print(\"Bob will NOT go skiing today :(\")"
   ]
  },
  {
   "cell_type": "code",
   "execution_count": null,
   "metadata": {},
   "outputs": [],
   "source": []
  },
  {
   "cell_type": "markdown",
   "metadata": {},
   "source": [
    "### Exercise\n",
    "\n",
    "**Lucky Number**\n",
    "\n",
    "Many cultures consider number 7 to be a lucky number.  This program takes a numeric\n",
    "input from a user and checks if the input is a \"lucky\" number."
   ]
  },
  {
   "cell_type": "code",
   "execution_count": null,
   "metadata": {
    "collapsed": true
   },
   "outputs": [],
   "source": [
    "# We will declare our lucky number 7 as a variable\n",
    "LUCKY_NUMBER = 7"
   ]
  },
  {
   "cell_type": "code",
   "execution_count": null,
   "metadata": {},
   "outputs": [],
   "source": [
    "# Ask user to input a number.  Note that even though the user will enter a number,\n",
    "# Python will treat the input as a string\n",
    "user_input = input(\"Please enter a number:\")\n",
    "\n",
    "print(\"You entered: \" + user_input)"
   ]
  },
  {
   "cell_type": "code",
   "execution_count": null,
   "metadata": {
    "collapsed": true
   },
   "outputs": [],
   "source": [
    "# Now we need to convert the input string to a number.  In this case, we will convert the\n",
    "# input string to an integer\n",
    "num = int(user_input)"
   ]
  },
  {
   "cell_type": "code",
   "execution_count": null,
   "metadata": {},
   "outputs": [],
   "source": [
    "# Check if the number equals to 7.  Note that we are using a comparison operator\n",
    "# (double-equal sign ==) instead of the assignment operator (single equal sign =)\n",
    "# Also important to note that Python will not concatenate strings with other data types,\n",
    "# such as integers, so we need to cast / convert all non-string types to string during\n",
    "# concatenation\n",
    "if num == LUCKY_NUMBER:\n",
    "    print(\"You entered the lucky number \" + str(LUCKY_NUMBER) + \"!\")\n",
    "else:\n",
    "    print(\"You entered number \" + str(num) + \".  It may be a lucky number for you, but it's not the lucky number \" + str(LUCKY_NUMBER) + \"!\")"
   ]
  },
  {
   "cell_type": "markdown",
   "metadata": {},
   "source": [
    "**Lucky Number: Challenge 1**\n",
    "\n",
    "Some users will try to submit a blank input.  When user submits input without entering a value, input string will be empty, or equal to a blank string (\"\"). Make sure to validate user inputs"
   ]
  },
  {
   "cell_type": "code",
   "execution_count": null,
   "metadata": {},
   "outputs": [],
   "source": [
    "# We will declare our lucky number 7 as a variable\n",
    "LUCKY_NUMBER = 7\n",
    "# Ask user to input a number.  Note that even though the user will enter a number,\n",
    "# Python will treat the input as a string\n",
    "user_input = input(\"Please enter a number:\")\n",
    "\n",
    "print(\"You entered: \" + user_input)"
   ]
  },
  {
   "cell_type": "code",
   "execution_count": null,
   "metadata": {
    "collapsed": true
   },
   "outputs": [],
   "source": [
    "# Write your challenge solution code here\n",
    "# Hint: Python has a built-in function that checks if the \n",
    "# value is numeric.  Use Google to figure out the name of that function \n",
    "# and how to use it."
   ]
  },
  {
   "cell_type": "markdown",
   "metadata": {},
   "source": [
    "**Lucky Number: Challenge 1 Solution**"
   ]
  },
  {
   "cell_type": "code",
   "execution_count": null,
   "metadata": {},
   "outputs": [],
   "source": [
    "# We will declare our lucky number 7 as a variable\n",
    "LUCKY_NUMBER = 7\n",
    "# Ask user to input a number.  Note that even though the user will enter a number,\n",
    "# Python will treat the input as a string\n",
    "user_input = input(\"Please enter a number:\")\n",
    "\n",
    "print(\"You entered: \" + user_input)"
   ]
  },
  {
   "cell_type": "code",
   "execution_count": null,
   "metadata": {},
   "outputs": [],
   "source": [
    "# Python has a built-in function that checks if the value is numeric:\n",
    "if user_input.isdigit():\n",
    "    # Now we need to convert the input string to a number.  \n",
    "    # In this case, we will convert the input string to an integer\n",
    "    num = int(user_input)\n",
    "\n",
    "    # Check if the number equals to 7.  Note that we are using a comparison operator\n",
    "    # (double-equal sign ==) instead of the assignment operator (single equal sign =)\n",
    "    if num == LUCKY_NUMBER:\n",
    "        print(\"You entered the lucky number \" + str(LUCKY_NUMBER) + \"!\")\n",
    "    else:\n",
    "        print(\"You entered number \" + str(num) + \".  It may be a lucky number for you, but it's not the lucky number \" + str(LUCKY_NUMBER) + \"!\")\n",
    "else:\n",
    "    #Display an error message\n",
    "    print(\"Hey, if you want us to tell you your lucky number, you actually have to enter one!\")\n"
   ]
  },
  {
   "cell_type": "markdown",
   "metadata": {},
   "source": [
    "**Lucky Number: Challenge 2**\n",
    "\n",
    "In Italy number **17** is also considered unlucky. The unluckiness of seventeen in Italian culture\n",
    "dates back to the Roman times.  Seventeen in Roman numnerals is XVII, which is an anagram for VIXI,\n",
    "which is Latin for \"I Lived\" and is a common marking on Roman tombstones.\n",
    "Modify the program below to not only check for lucky number 7, but also for unlucky numbers 13 and 17\n",
    "and to display appropriate messages."
   ]
  },
  {
   "cell_type": "code",
   "execution_count": null,
   "metadata": {
    "collapsed": true
   },
   "outputs": [],
   "source": [
    "# We will declare and initialize our lucky number 7 as a variable\n",
    "LUCKY_NUMBER = 7\n",
    "\n",
    "# Declare and initialize unlucky numbers as varialbes\n",
    "UNLUCKY_NUMBER1 = 13\n",
    "UNLUCKY_NUMBER2 = 17"
   ]
  },
  {
   "cell_type": "markdown",
   "metadata": {},
   "source": [
    "**Step 1: **Get user input"
   ]
  },
  {
   "cell_type": "code",
   "execution_count": null,
   "metadata": {
    "collapsed": true
   },
   "outputs": [],
   "source": [
    "# Write Step 1 code here\n"
   ]
  },
  {
   "cell_type": "markdown",
   "metadata": {},
   "source": [
    "**Step 2: **Convert user input to integer"
   ]
  },
  {
   "cell_type": "code",
   "execution_count": null,
   "metadata": {
    "collapsed": true
   },
   "outputs": [],
   "source": [
    "# Write Step 2 code here\n"
   ]
  },
  {
   "cell_type": "markdown",
   "metadata": {},
   "source": [
    "**Step 3: **Check if the number equals to 7 or 13 or 17. Display appropriate messages"
   ]
  },
  {
   "cell_type": "code",
   "execution_count": null,
   "metadata": {
    "collapsed": true
   },
   "outputs": [],
   "source": [
    "# Write Step 3 code here"
   ]
  },
  {
   "cell_type": "markdown",
   "metadata": {},
   "source": [
    "**Lucky Number: Challenge 2 Solution**"
   ]
  },
  {
   "cell_type": "code",
   "execution_count": null,
   "metadata": {
    "collapsed": true
   },
   "outputs": [],
   "source": [
    "# We will declare and initialize our lucky number 7 as a variable\n",
    "LUCKY_NUMBER = 7\n",
    "\n",
    "# Declare and initialize unlucky numbers as varialbes\n",
    "UNLUCKY_NUMBER1 = 13\n",
    "UNLUCKY_NUMBER2 = 17"
   ]
  },
  {
   "cell_type": "code",
   "execution_count": null,
   "metadata": {},
   "outputs": [],
   "source": [
    "# Ask user to input a number.  Note that even though the user will enter a number,\n",
    "# Python will treat the input as a string\n",
    "user_input = input(\"Please enter a number:\")\n",
    "\n",
    "print(\"You entered: \" + user_input)"
   ]
  },
  {
   "cell_type": "code",
   "execution_count": null,
   "metadata": {
    "collapsed": true
   },
   "outputs": [],
   "source": [
    "# Now we need to convert the input string to a number.  In this case, we will convert the\n",
    "# input string to an integer\n",
    "num = int(user_input)"
   ]
  },
  {
   "cell_type": "code",
   "execution_count": null,
   "metadata": {},
   "outputs": [],
   "source": [
    "# Check if the number equals to 7.  Note that we are using a comparison operator\n",
    "# (double-equal sign ==) instead of the assignment operator (single equal sign =)\n",
    "if num == LUCKY_NUMBER:\n",
    "    print(\"You entered the lucky number \" + str(LUCKY_NUMBER) + \"!\")\n",
    "elif num == UNLUCKY_NUMBER1 or num == UNLUCKY_NUMBER2:\n",
    "    # Check if the number equals to 13 or 17\n",
    "    print(\"You entered an extremely unlucky number of \" + str(num) + \"! Be more careful with your inputs in the future.\")\n",
    "else:\n",
    "    print(\"You entered number \" + str(num) + \".  It may be a lucky number for you, but it's not the lucky number \" + str(LUCKY_NUMBER) + \"!\")\n"
   ]
  }
 ],
 "metadata": {
  "kernelspec": {
   "display_name": "Python 3",
   "language": "python",
   "name": "python3"
  },
  "language_info": {
   "codemirror_mode": {
    "name": "ipython",
    "version": 3
   },
   "file_extension": ".py",
   "mimetype": "text/x-python",
   "name": "python",
   "nbconvert_exporter": "python",
   "pygments_lexer": "ipython3",
   "version": "3.6.3"
  }
 },
 "nbformat": 4,
 "nbformat_minor": 2
}
