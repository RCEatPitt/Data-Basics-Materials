{
 "cells": [
  {
   "cell_type": "markdown",
   "metadata": {},
   "source": [
    "### Exercise\n",
    "\n",
    "**Lucky Number**\n",
    "\n",
    "Many cultures consider number 7 to be a lucky number.  This program takes a numeric\n",
    "input from a user and checks if the input is a \"lucky\" number."
   ]
  },
  {
   "cell_type": "code",
   "execution_count": null,
   "metadata": {
    "collapsed": true
   },
   "outputs": [],
   "source": [
    "# We will declare our lucky number 7 as a variable\n",
    "LUCKY_NUMBER = 7"
   ]
  },
  {
   "cell_type": "code",
   "execution_count": null,
   "metadata": {},
   "outputs": [],
   "source": [
    "# Ask user to input a number.  Note that even though the user will enter a number,\n",
    "# Python will treat the input as a string\n",
    "user_input = input(\"Please enter a number:\")\n",
    "\n",
    "print(\"You entered: \" + user_input)"
   ]
  },
  {
   "cell_type": "code",
   "execution_count": null,
   "metadata": {
    "collapsed": true
   },
   "outputs": [],
   "source": [
    "# Now we need to convert the input string to a number.  In this case, we will convert the\n",
    "# input string to an integer\n",
    "num = int(user_input)"
   ]
  },
  {
   "cell_type": "code",
   "execution_count": null,
   "metadata": {},
   "outputs": [],
   "source": [
    "# Check if the number equals to 7.  Note that we are using a comparison operator\n",
    "# (double-equal sign ==) instead of the assignment operator (single equal sign =)\n",
    "# Also important to note that Python will not concatenate strings with other data types,\n",
    "# such as integers, so we need to cast / convert all non-string types to string during\n",
    "# concatenation\n",
    "if num == LUCKY_NUMBER:\n",
    "    print(\"You entered the lucky number \" + str(LUCKY_NUMBER) + \"!\")\n",
    "else:\n",
    "    print(\"You entered number \" + str(num) + \".  It may be a lucky number for you, but it's not the lucky number \" + str(LUCKY_NUMBER) + \"!\")"
   ]
  },
  {
   "cell_type": "markdown",
   "metadata": {},
   "source": [
    "**Lucky Number: Challenge 1**\n",
    "\n",
    "Some users will try to submit a blank input.  When user submits input without entering a value, input string will be empty, or equal to a blank string (\"\"). Make sure to validate user inputs"
   ]
  },
  {
   "cell_type": "code",
   "execution_count": null,
   "metadata": {},
   "outputs": [],
   "source": [
    "# We will declare our lucky number 7 as a variable\n",
    "LUCKY_NUMBER = 7\n",
    "# Ask user to input a number.  Note that even though the user will enter a number,\n",
    "# Python will treat the input as a string\n",
    "user_input = input(\"Please enter a number:\")\n",
    "\n",
    "print(\"You entered: \" + user_input)"
   ]
  },
  {
   "cell_type": "code",
   "execution_count": null,
   "metadata": {
    "collapsed": true
   },
   "outputs": [],
   "source": [
    "# Write your challenge solution code here\n",
    "# Hint: Python has a built-in function that checks if the \n",
    "# value is numeric.  Use Google to figure out the name of that function \n",
    "# and how to use it."
   ]
  },
  {
   "cell_type": "markdown",
   "metadata": {},
   "source": [
    "**Lucky Number: Challenge 1 Solution**"
   ]
  },
  {
   "cell_type": "code",
   "execution_count": null,
   "metadata": {},
   "outputs": [],
   "source": [
    "# We will declare our lucky number 7 as a variable\n",
    "LUCKY_NUMBER = 7\n",
    "# Ask user to input a number.  Note that even though the user will enter a number,\n",
    "# Python will treat the input as a string\n",
    "user_input = input(\"Please enter a number:\")\n",
    "\n",
    "print(\"You entered: \" + user_input)"
   ]
  },
  {
   "cell_type": "code",
   "execution_count": null,
   "metadata": {},
   "outputs": [],
   "source": [
    "# Python has a built-in function that checks if the value is numeric:\n",
    "if user_input.isdigit():\n",
    "    # Now we need to convert the input string to a number.  \n",
    "    # In this case, we will convert the input string to an integer\n",
    "    num = int(user_input)\n",
    "\n",
    "    # Check if the number equals to 7.  Note that we are using a comparison operator\n",
    "    # (double-equal sign ==) instead of the assignment operator (single equal sign =)\n",
    "    if num == LUCKY_NUMBER:\n",
    "        print(\"You entered the lucky number \" + str(LUCKY_NUMBER) + \"!\")\n",
    "    else:\n",
    "        print(\"You entered number \" + str(num) + \".  It may be a lucky number for you, but it's not the lucky number \" + str(LUCKY_NUMBER) + \"!\")\n",
    "else:\n",
    "    #Display an error message\n",
    "    print(\"Hey, if you want us to tell you your lucky number, you actually have to enter one!\")\n"
   ]
  },
  {
   "cell_type": "markdown",
   "metadata": {},
   "source": [
    "**Lucky Number: Challenge 2**\n",
    "\n",
    "In Italy number **17** is also considered unlucky. The unluckiness of seventeen in Italian culture\n",
    "dates back to the Roman times.  Seventeen in Roman numnerals is XVII, which is an anagram for VIXI,\n",
    "which is Latin for \"I Lived\" and is a common marking on Roman tombstones.\n",
    "Modify the program below to not only check for lucky number 7, but also for unlucky numbers 13 and 17\n",
    "and to display appropriate messages."
   ]
  },
  {
   "cell_type": "code",
   "execution_count": null,
   "metadata": {
    "collapsed": true
   },
   "outputs": [],
   "source": [
    "# We will declare and initialize our lucky number 7 as a variable\n",
    "LUCKY_NUMBER = 7\n",
    "\n",
    "# Declare and initialize unlucky numbers as varialbes\n",
    "UNLUCKY_NUMBER1 = 13\n",
    "UNLUCKY_NUMBER2 = 17"
   ]
  },
  {
   "cell_type": "markdown",
   "metadata": {},
   "source": [
    "**Step 1: **Get user input"
   ]
  },
  {
   "cell_type": "code",
   "execution_count": null,
   "metadata": {
    "collapsed": true
   },
   "outputs": [],
   "source": [
    "# Write Step 1 code here\n"
   ]
  },
  {
   "cell_type": "markdown",
   "metadata": {},
   "source": [
    "**Step 2: **Convert user input to integer"
   ]
  },
  {
   "cell_type": "code",
   "execution_count": null,
   "metadata": {
    "collapsed": true
   },
   "outputs": [],
   "source": [
    "# Write Step 2 code here\n"
   ]
  },
  {
   "cell_type": "markdown",
   "metadata": {},
   "source": [
    "**Step 3: **Check if the number equals to 7 or 13 or 17. Display appropriate messages"
   ]
  },
  {
   "cell_type": "code",
   "execution_count": null,
   "metadata": {
    "collapsed": true
   },
   "outputs": [],
   "source": [
    "# Write Step 3 code here"
   ]
  },
  {
   "cell_type": "markdown",
   "metadata": {},
   "source": [
    "**Lucky Number: Challenge 2 Solution**"
   ]
  },
  {
   "cell_type": "code",
   "execution_count": null,
   "metadata": {
    "collapsed": true
   },
   "outputs": [],
   "source": [
    "# We will declare and initialize our lucky number 7 as a variable\n",
    "LUCKY_NUMBER = 7\n",
    "\n",
    "# Declare and initialize unlucky numbers as varialbes\n",
    "UNLUCKY_NUMBER1 = 13\n",
    "UNLUCKY_NUMBER2 = 17"
   ]
  },
  {
   "cell_type": "code",
   "execution_count": null,
   "metadata": {},
   "outputs": [],
   "source": [
    "# Ask user to input a number.  Note that even though the user will enter a number,\n",
    "# Python will treat the input as a string\n",
    "user_input = input(\"Please enter a number:\")\n",
    "\n",
    "print(\"You entered: \" + user_input)"
   ]
  },
  {
   "cell_type": "code",
   "execution_count": null,
   "metadata": {
    "collapsed": true
   },
   "outputs": [],
   "source": [
    "# Now we need to convert the input string to a number.  In this case, we will convert the\n",
    "# input string to an integer\n",
    "num = int(user_input)"
   ]
  },
  {
   "cell_type": "code",
   "execution_count": null,
   "metadata": {},
   "outputs": [],
   "source": [
    "# Check if the number equals to 7.  Note that we are using a comparison operator\n",
    "# (double-equal sign ==) instead of the assignment operator (single equal sign =)\n",
    "if num == LUCKY_NUMBER:\n",
    "    print(\"You entered the lucky number \" + str(LUCKY_NUMBER) + \"!\")\n",
    "elif num == UNLUCKY_NUMBER1 or num == UNLUCKY_NUMBER2:\n",
    "    # Check if the number equals to 13 or 17\n",
    "    print(\"You entered an extremely unlucky number of \" + str(num) + \"! Be more careful with your inputs in the future.\")\n",
    "else:\n",
    "    print(\"You entered number \" + str(num) + \".  It may be a lucky number for you, but it's not the lucky number \" + str(LUCKY_NUMBER) + \"!\")\n"
   ]
  }
 ],
 "metadata": {
  "kernelspec": {
   "display_name": "Python 3",
   "language": "python",
   "name": "python3"
  },
  "language_info": {
   "codemirror_mode": {
    "name": "ipython",
    "version": 3
   },
   "file_extension": ".py",
   "mimetype": "text/x-python",
   "name": "python",
   "nbconvert_exporter": "python",
   "pygments_lexer": "ipython3",
   "version": "3.6.3"
  }
 },
 "nbformat": 4,
 "nbformat_minor": 2
}
