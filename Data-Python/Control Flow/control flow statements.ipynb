{
 "cells": [
  {
   "cell_type": "markdown",
   "metadata": {},
   "source": [
    "# Control Flow Statements"
   ]
  },
  {
   "cell_type": "markdown",
   "metadata": {},
   "source": [
    "** The \"_if_\" statement**"
   ]
  },
  {
   "cell_type": "code",
   "execution_count": null,
   "metadata": {},
   "outputs": [],
   "source": [
    "# Pay close attention to the equal sign (=)\n",
    "# When we use the equal sign to assign a value to a variable, Python treats it as an \"ASSIGNMENT\" operator\n",
    "# In the line of code below, we are assigning the value of \"True\" to the boolean variable \"condition\"\n",
    "condition = True\n",
    "\n",
    "# When we need to compare two values, we have to use a double equal sign (==), which is a \"COMPARISON\" operator\n",
    "# In the line of code below we compare the value already stored in the boolean varialbe \"condition\" to \"True\"\n",
    "if condition == True:\n",
    "    print(\"The code inside if block gets executed\")"
   ]
  },
  {
   "cell_type": "markdown",
   "metadata": {},
   "source": [
    "**Chained \"_if_\" statements**"
   ]
  },
  {
   "cell_type": "code",
   "execution_count": null,
   "metadata": {},
   "outputs": [],
   "source": [
    "# In this example, we evaluate multiple \"if\" statements and execute them sequentially\n",
    "condition = True\n",
    "\n",
    "if condition == True:\n",
    "    print(\"The code inside if block gets executed\")\n",
    "    \n",
    "if condition == False:\n",
    "    print(\"The code inside this block will not be executed\")\n"
   ]
  },
  {
   "cell_type": "code",
   "execution_count": null,
   "metadata": {},
   "outputs": [],
   "source": [
    "# Let's try the same thing, but this time with user input\n",
    "\n",
    "user_input_str = input(\"Please enter a number: \\n\")\n",
    "user_input_num = int(user_input_str)\n",
    "if user_input_num > 10:\n",
    "    print(\"You entered number \" + str(user_input_num) + \". That number is greater than 10\")\n",
    "\n",
    "if user_input_num < 10:\n",
    "    print(\"You entered number \" + str(user_input_num) + \". That number is less than 10\")\n",
    "    \n",
    "\n",
    "# Question 1: What is wrong with the code above?\n",
    "\n",
    "# Question 2: without knowing anything else about conditional \n",
    "# statements in Python, can you guess why the code above is ineficient?\n",
    "\n",
    "\n"
   ]
  },
  {
   "cell_type": "code",
   "execution_count": null,
   "metadata": {},
   "outputs": [],
   "source": [
    "# Let's fix this\n",
    "user_input_str = input(\"Please enter a number: \\n\")\n",
    "user_input_num = int(user_input_str)\n",
    "if user_input_num > 10:\n",
    "    print(\"You entered number \" + str(user_input_num) + \". That number is greater than 10\")\n",
    "else:\n",
    "    print(\"You entered number \" + str(user_input_num) + \". That number is less than or equal to 10\")"
   ]
  },
  {
   "cell_type": "code",
   "execution_count": null,
   "metadata": {},
   "outputs": [],
   "source": [
    "# What if we want more than two conditions?\n",
    "\n",
    "user_input_str = input(\"Please enter a number: \\n\")\n",
    "user_input_num = int(user_input_str)\n",
    "if user_input_num > 10:\n",
    "    print(\"You entered number \" + str(user_input_num) + \". That number is greater than 10\")\n",
    "elif user_input_num == 10:\n",
    "    print(\"You entered number \" + str(user_input_num) + \". That number equals to 10\")\n",
    "else:\n",
    "    print(\"You entered number \" + str(user_input_num) + \". That number is less than 10\")\n",
    "    \n"
   ]
  }
 ],
 "metadata": {
  "kernelspec": {
   "display_name": "Python 3",
   "language": "python",
   "name": "python3"
  },
  "language_info": {
   "codemirror_mode": {
    "name": "ipython",
    "version": 3
   },
   "file_extension": ".py",
   "mimetype": "text/x-python",
   "name": "python",
   "nbconvert_exporter": "python",
   "pygments_lexer": "ipython3",
   "version": "3.6.3"
  }
 },
 "nbformat": 4,
 "nbformat_minor": 2
}
