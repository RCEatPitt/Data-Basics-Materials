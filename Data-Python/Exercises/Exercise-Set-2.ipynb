{
 "cells": [
  {
   "cell_type": "markdown",
   "metadata": {},
   "source": [
    "----"
   ]
  },
  {
   "cell_type": "markdown",
   "metadata": {},
   "source": [
    "# Week 1 Exercises\n",
    "\n",
    "Chapters 2 and 3 of *Python for Everybody* may be helpful when doing these exercises: \n",
    "\n",
    "* [Click here to read Chapter 2 - Variables](https://www.py4e.com/html3/02-variables)\n",
    "* [Click here to read Chapter 3 - Conditionals](https://www.py4e.com/html3/03-conditional)\n",
    "\n",
    "### A brief note on these exercises\n",
    "\n",
    "You're definitely going to get stuck at some point doing this assignment. When you do, there's a methodology that I think is helpful that you should try to develop. It comes from FreeCodeCamp (incidentally, a great resource for teaching yourself some coding), and it's called [Read-Search-Ask](https://medium.freecodecamp.org/read-search-dont-be-afraid-to-ask-743a23c411b4).\n",
    "\n",
    "These three steps will get you through these assignments, and the habit will help you throughout your life coding. They're basically as follows:\n",
    "\n",
    "1. *Read.* Reread the error messages you get, reread the exercise description, read the relevant parts from the textbook, read over any code that might be given to you, read over any supplementary materials you might've gotten that relate to what you're doing. Try any solutions or potential changes that come to mind after reading or were suggested while you're reading. You can do that as many times as you want; it doesn't hurt anybody to try putting in another parenthesis and hit Shift-Enter again.\n",
    "2. *Search.* By now, you probably have a pretty good idea of what your problem is. Google it! Look on StackExchange, coding forums, and other websites. Don't copy and paste code (you know what plagiarism is) but try to see what others did that's different from what you have.\n",
    "3. *Ask.* If you're still in lab and you're stuck, raise your hand! If not, us an email. Come to our office hours. We'll help you out.\n",
    "\n",
    "\n",
    "Read-Search-Ask is going to be helpful; keep it in the back of your mind as you're doing these assignments."
   ]
  },
  {
   "cell_type": "markdown",
   "metadata": {},
   "source": [
    "#### **Exercise 1**\n",
    "\n",
    "Write a program that prompts the user for an integer and tests whether the integer is within 100 of 1000 or 2000. If the integer is within the specified range, print a message saying which number it is within 100 of. Otherwise, print that it isn't within the range.\n",
    "\n",
    "There are several ways to do this! Hint: you can consider using an existing function to calculate absolute values."
   ]
  },
  {
   "cell_type": "code",
   "execution_count": 1,
   "metadata": {},
   "outputs": [],
   "source": [
    "#Code Here!"
   ]
  },
  {
   "cell_type": "markdown",
   "metadata": {},
   "source": [
    "#### **Exercise 2**\n",
    "\n",
    "Write a program that takes values x1, x2, y1, and y2 as user input, representing two points on a Cartesian plane. \n",
    "\n",
    "Use the formula for [Euclidean distance](https://en.wikipedia.org/wiki/Euclidean_distance) to calculate how much distance is between the two points. If x = (x1, x2) and y = (y1, y2), then the distance is given by d(x, y) = sqrt((x1 - y1)^2 + (x2 - y2)^2). Note that you may want to use the math.sqrt() function to calculate square roots. The import statement for math is included in the code cell below. To find the square root of x, use math.sqrt(x)."
   ]
  },
  {
   "cell_type": "code",
   "execution_count": 2,
   "metadata": {},
   "outputs": [],
   "source": [
    "import math "
   ]
  },
  {
   "cell_type": "markdown",
   "metadata": {},
   "source": [
    "#### **Exercise 3**\n",
    "\n",
    "Write a program that prompts the user for an integer greater than 1 and prints its smallest integer divisor greater than 1."
   ]
  },
  {
   "cell_type": "code",
   "execution_count": null,
   "metadata": {},
   "outputs": [],
   "source": []
  },
  {
   "cell_type": "markdown",
   "metadata": {},
   "source": [
    "#### **Exercise 4**\n",
    "\n",
    "As a future athlete you just started your practice for an upcoming event. Given that on the first day you run x miles, and by the event you must be able to run y miles.\n",
    "Calculate the number of days required for you to finally reach the required distance for the event, if you increases your distance each day by 10% from the previous day.\n",
    "\n",
    "Print one integer representing the number of days to reach the required distance. "
   ]
  },
  {
   "cell_type": "code",
   "execution_count": null,
   "metadata": {},
   "outputs": [],
   "source": []
  },
  {
   "cell_type": "markdown",
   "metadata": {},
   "source": [
    "#### **Exercise 5**\n",
    "\n",
    "The Fibonacci sequence is characterized by the fact that every number after the first two is the sum of the two preceding ones i.e. 0, 1, 1, 2, 3, 5, 8, 13, 21, ...\n",
    "\n",
    "Write a program that prompts the user for an integer n and print the nth Fibonacci number."
   ]
  },
  {
   "cell_type": "code",
   "execution_count": null,
   "metadata": {},
   "outputs": [],
   "source": []
  },
  {
   "cell_type": "markdown",
   "metadata": {},
   "source": [
    "#### **Exercise 6**\n",
    "\n",
    "The factorial of an integer n, denoted by n!, is the following product: n! = 1 x 2 x ... x n\n",
    "\n",
    "Write a program that prompts the user for an integer n and prints the value of n!"
   ]
  },
  {
   "cell_type": "code",
   "execution_count": null,
   "metadata": {},
   "outputs": [],
   "source": []
  },
  {
   "cell_type": "markdown",
   "metadata": {},
   "source": [
    "#### **Exercise 7**\n",
    "\n",
    "The rules in Gregorian calendar are as follows: a year is a leap year if its number is exactly divisible by 4 and is not exactly divisible by 100, and a year is always a leap year if its number is exactly divisible by 400.\n",
    "\n",
    "Write a program that prompts the user for a year number and check if this year is a leap year. If it is, print leap, otherwise print common."
   ]
  },
  {
   "cell_type": "code",
   "execution_count": null,
   "metadata": {},
   "outputs": [],
   "source": []
  },
  {
   "cell_type": "markdown",
   "metadata": {},
   "source": [
    "#### **Exercise 8**\n",
    "\n",
    "Write a program that prompts the user for the number of minutes that is passed since midnight n and prints how many hours and minutes are displayed on a 24h digital clock.\n",
    "The program should print two numbers: the number of hours (between 0 and 23) and the number of minutes (between 0 and 59).\n",
    "\n",
    "For example, if N = 150, then 150 minutes have passed since midnight - i.e. now is 2:30 am. So the program should print 2 hours and 30 minutes."
   ]
  },
  {
   "cell_type": "code",
   "execution_count": null,
   "metadata": {},
   "outputs": [],
   "source": []
  },
  {
   "cell_type": "markdown",
   "metadata": {},
   "source": [
    "#### **Exercise 9**\n",
    "\n",
    "Write a program that generates a random number between 1 and 9 (including 1 and 9). Ask the user to guess the number, then tell them whether they guessed too low, too high, or exactly right. \n",
    "\n",
    "Hint: you will need to use the random module (imported below)"
   ]
  },
  {
   "cell_type": "code",
   "execution_count": 3,
   "metadata": {},
   "outputs": [],
   "source": [
    "import random"
   ]
  },
  {
   "cell_type": "code",
   "execution_count": null,
   "metadata": {},
   "outputs": [],
   "source": []
  }
 ],
 "metadata": {
  "kernelspec": {
   "display_name": "Python 3",
   "language": "python",
   "name": "python3"
  },
  "language_info": {
   "codemirror_mode": {
    "name": "ipython",
    "version": 3
   },
   "file_extension": ".py",
   "mimetype": "text/x-python",
   "name": "python",
   "nbconvert_exporter": "python",
   "pygments_lexer": "ipython3",
   "version": "3.6.3"
  }
 },
 "nbformat": 4,
 "nbformat_minor": 2
}
