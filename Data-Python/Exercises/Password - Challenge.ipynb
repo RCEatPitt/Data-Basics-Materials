{
 "cells": [
  {
   "cell_type": "markdown",
   "metadata": {},
   "source": [
    "# Password\n",
    "\n",
    "This program takes user input in the form of a password and determines whether or not the password is valid. It allows 3 chances for the password to be guessed. <br>\n",
    "\n",
    "## Challenge\n",
    "\n",
    "If the user fails to enter the correct password on the first two tries, print that there is one attempt remaining by adding a conditional to the existing code. If the user is out of attempts, print that they have been locked out."
   ]
  },
  {
   "cell_type": "code",
   "execution_count": 1,
   "metadata": {
    "collapsed": true
   },
   "outputs": [],
   "source": [
    "# Set goal password variable\n",
    "PASSWORD = \"pw1234\"\n",
    "\n",
    "# Since we only want to allow 3 incorrect guesses, we will use an attempts_remaining int variable\n",
    "attempts_remaining = 3"
   ]
  },
  {
   "cell_type": "code",
   "execution_count": null,
   "metadata": {},
   "outputs": [],
   "source": [
    "# We will use a loop to allow the user to keep guessing as long as there are attempts remaining (Note that \n",
    "# loops will be covered in more detail next week).\n",
    "\n",
    "# The program asks for input and uses a conditional to evaluate whether or not the correct password (pw1234) \n",
    "# was entered. If the wrong password is used, we decrement attempts_remaining and prompt the user to try again.\n",
    "while attempts_remaining > 0:\n",
    "    input_password = input(\"Please enter the password: \")\n",
    "    if input_password == PASSWORD:\n",
    "        print(\"Password is correct!\")\n",
    "        break;\n",
    "    else:\n",
    "        print(\"Password is incorrect. Please try again.\")\n",
    "        attempts_remaining = attempts_remaining - 1\n",
    "    "
   ]
  },
  {
   "cell_type": "code",
   "execution_count": null,
   "metadata": {},
   "outputs": [],
   "source": []
  }
 ],
 "metadata": {
  "kernelspec": {
   "display_name": "Python 3",
   "language": "python",
   "name": "python3"
  },
  "language_info": {
   "codemirror_mode": {
    "name": "ipython",
    "version": 3
   },
   "file_extension": ".py",
   "mimetype": "text/x-python",
   "name": "python",
   "nbconvert_exporter": "python",
   "pygments_lexer": "ipython3",
   "version": "3.6.3"
  }
 },
 "nbformat": 4,
 "nbformat_minor": 2
}
