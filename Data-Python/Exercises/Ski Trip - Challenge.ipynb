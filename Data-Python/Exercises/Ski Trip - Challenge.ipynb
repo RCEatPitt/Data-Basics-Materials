{
 "cells": [
  {
   "cell_type": "markdown",
   "metadata": {},
   "source": [
    "# Ski Trip\n",
    "\n",
    "This program considers a number of variables that, when used in conditional statements, will determine whether or not our skiier, Bob, can go on his ski trip <br>\n",
    "\n",
    "The program provides values for how much it snowed outside (int), whether or not the slope is open (boolean), whether or not his skis are sharpened (boolean), and whether or not the roads were salted the night before (boolean). Bob is only interested in skiing if there are at least 6 inches of fresh powder on the slopes. He can't drive to the slopes if there were more than 12 inches of snowfall unless the roads were salted the night before - if they were, he can drive in up to 18 inches of snowfall. <br>\n",
    "\n",
    "Using the above facts, the program will set the variables and determine whether or not Bob can ski today.\n",
    "\n",
    "## Challenge\n",
    "\n",
    "Now the program will consider whether or not Bob is sick. If he is, he will not go skiing. Declare a new boolean variable to represent this new fact and add the new logic into the conditional below."
   ]
  },
  {
   "cell_type": "code",
   "execution_count": 1,
   "metadata": {
    "collapsed": true
   },
   "outputs": [],
   "source": [
    "# Set variables such that there were 16 inches of snowfall, Bob's skis are sharpened, the slope is open, \n",
    "# and the roads are salted\n",
    "SNOWFALL = 16\n",
    "\n",
    "SKIS_SHARPENED = True\n",
    "SLOPE_OPEN = True\n",
    "ROADS_SALTED = True"
   ]
  },
  {
   "cell_type": "code",
   "execution_count": 2,
   "metadata": {
    "collapsed": true
   },
   "outputs": [],
   "source": [
    "# We will also use a variable of our own, BOB_SKIS, as a flag to help us output the result later\n",
    "BOB_SKIS = False"
   ]
  },
  {
   "cell_type": "code",
   "execution_count": 3,
   "metadata": {},
   "outputs": [],
   "source": [
    "# First, determine whether or not Bob can ski using nested conditional statements. By setting BOB_SKIS to False above, \n",
    "# we only need to evaluate for the cases in which Bob can ski. If we don't meet those conditions, our result will \n",
    "# already evaluate to false!\n",
    "if SKIS_SHARPENED == True:\n",
    "    if SLOPE_OPEN == True:\n",
    "        if ROADS_SALTED == True:\n",
    "            if (SNOWFALL >= 6 and SNOWFALL <= 18):\n",
    "                BOB_SKIS = True\n",
    "        else:\n",
    "            if (SNOWFALL >= 6 and SNOWFALL <= 12):\n",
    "                BOB_SKIS = True"
   ]
  },
  {
   "cell_type": "code",
   "execution_count": 4,
   "metadata": {},
   "outputs": [
    {
     "name": "stdout",
     "output_type": "stream",
     "text": [
      "Bob will go skiing today!\n"
     ]
    }
   ],
   "source": [
    "# Finally, we will use one more conditional to print the result\n",
    "if BOB_SKIS == True:\n",
    "    print(\"Bob will go skiing today!\")\n",
    "else:\n",
    "    print(\"Bob will NOT go skiing today :(\")"
   ]
  },
  {
   "cell_type": "code",
   "execution_count": null,
   "metadata": {},
   "outputs": [],
   "source": []
  }
 ],
 "metadata": {
  "kernelspec": {
   "display_name": "Python 3",
   "language": "python",
   "name": "python3"
  },
  "language_info": {
   "codemirror_mode": {
    "name": "ipython",
    "version": 3
   },
   "file_extension": ".py",
   "mimetype": "text/x-python",
   "name": "python",
   "nbconvert_exporter": "python",
   "pygments_lexer": "ipython3",
   "version": "3.6.3"
  }
 },
 "nbformat": 4,
 "nbformat_minor": 2
}
