{
 "cells": [
  {
   "cell_type": "markdown",
   "metadata": {},
   "source": [
    "## CSV files - Challenge 1\n",
    "\n",
    "Calculate the _average_ and the _highest (max)_ cholesterol value based on the data available in the dataset.\n"
   ]
  },
  {
   "cell_type": "code",
   "execution_count": null,
   "metadata": {
    "collapsed": true
   },
   "outputs": [],
   "source": [
    "# Step 1: Import csv module\n",
    "import csv"
   ]
  },
  {
   "cell_type": "code",
   "execution_count": null,
   "metadata": {
    "collapsed": true
   },
   "outputs": [],
   "source": [
    "# Step 2: Read the csv file\n",
    "diabetes_file = open(\"diabetes.csv\")\n",
    "diabetes_data = csv.reader(diabetes_file)"
   ]
  },
  {
   "cell_type": "code",
   "execution_count": null,
   "metadata": {},
   "outputs": [],
   "source": [
    "# Step 3: Iterate through csv data\n",
    "\n",
    "diabetes_file.seek(0) # Reset the read position of the file object\n",
    "headers = next(diabetes_file)\n",
    "diabetes_data = csv.reader(diabetes_file)\n",
    "\n",
    "# Hint: you'll need to declare variables to store average and maximum cholesterol here (outside of the loop)\n",
    "# Hint: You might want to check and see if the data actually exists!\n",
    "for row in diabetes_data:\n",
    "    \n",
    "    # replace this code with your average a max calculation code\n",
    "    print(row[1]) # print only the values for the chol column"
   ]
  },
  {
   "cell_type": "code",
   "execution_count": null,
   "metadata": {},
   "outputs": [],
   "source": []
  },
  {
   "cell_type": "code",
   "execution_count": null,
   "metadata": {},
   "outputs": [],
   "source": []
  },
  {
   "cell_type": "code",
   "execution_count": null,
   "metadata": {},
   "outputs": [],
   "source": []
  },
  {
   "cell_type": "code",
   "execution_count": null,
   "metadata": {},
   "outputs": [],
   "source": []
  },
  {
   "cell_type": "code",
   "execution_count": null,
   "metadata": {},
   "outputs": [],
   "source": []
  },
  {
   "cell_type": "code",
   "execution_count": null,
   "metadata": {},
   "outputs": [],
   "source": []
  },
  {
   "cell_type": "code",
   "execution_count": null,
   "metadata": {},
   "outputs": [],
   "source": []
  },
  {
   "cell_type": "code",
   "execution_count": null,
   "metadata": {},
   "outputs": [],
   "source": []
  },
  {
   "cell_type": "code",
   "execution_count": null,
   "metadata": {},
   "outputs": [],
   "source": []
  },
  {
   "cell_type": "code",
   "execution_count": null,
   "metadata": {},
   "outputs": [],
   "source": []
  },
  {
   "cell_type": "code",
   "execution_count": null,
   "metadata": {},
   "outputs": [],
   "source": []
  },
  {
   "cell_type": "code",
   "execution_count": null,
   "metadata": {},
   "outputs": [],
   "source": []
  },
  {
   "cell_type": "code",
   "execution_count": null,
   "metadata": {},
   "outputs": [],
   "source": []
  },
  {
   "cell_type": "code",
   "execution_count": null,
   "metadata": {},
   "outputs": [],
   "source": []
  },
  {
   "cell_type": "markdown",
   "metadata": {},
   "source": [
    "## CSV files - Challenge 1 Solution\n",
    "\n",
    "Calculate the _average_ and the _highest (max)_ cholesterol value based on the data available in the dataset.\n"
   ]
  },
  {
   "cell_type": "code",
   "execution_count": null,
   "metadata": {
    "collapsed": true
   },
   "outputs": [],
   "source": [
    "# Step 1: Import csv module\n",
    "import csv"
   ]
  },
  {
   "cell_type": "code",
   "execution_count": null,
   "metadata": {
    "collapsed": true
   },
   "outputs": [],
   "source": [
    "# Step 2: Read the csv file\n",
    "diabetes_file = open(\"diabetes.csv\")\n",
    "diabetes_data = csv.reader(diabetes_file)"
   ]
  },
  {
   "cell_type": "code",
   "execution_count": null,
   "metadata": {},
   "outputs": [],
   "source": [
    "# Step 3: Iterate through csv data\n",
    "\n",
    "diabetes_file.seek(0) # Reset the read position of the file object\n",
    "headers = next(diabetes_file)\n",
    "\n",
    "count = 0 # Initialize a temporary counter\n",
    "total_chol = 0\n",
    "max_chol = 0\n",
    "\n",
    "# Hint: you'll need to declare variables to store average and maximum cholesterol here (outside of the loop)\n",
    "# Hint: You might want to check and see if the data actually exists!\n",
    "for row in diabetes_data:\n",
    "    \n",
    "    # make sure there is a data value in the row\n",
    "    if row[1] != \"\":            \n",
    "        # convert the value to a number\n",
    "        chol = int(row[1])\n",
    "            \n",
    "        # tabulate the total chol\n",
    "        total_chol = total_chol + chol\n",
    "        count = count + 1\n",
    "            \n",
    "        # check if the current value is the max\n",
    "        if  chol > max_chol:\n",
    "            # set the new max \n",
    "            max_chol = chol\n",
    "\n",
    "print(\"Total: \" , total)\n",
    "print(\"Count: \" , count)\n",
    "\n",
    "avg_chol = total_chol / count\n",
    "\n",
    "print(\"Average: \", avg_chol)\n",
    "print(\"Max:\", max_chol)"
   ]
  },
  {
   "cell_type": "code",
   "execution_count": null,
   "metadata": {},
   "outputs": [],
   "source": []
  }
 ],
 "metadata": {
  "kernelspec": {
   "display_name": "Python 3",
   "language": "python",
   "name": "python3"
  },
  "language_info": {
   "codemirror_mode": {
    "name": "ipython",
    "version": 3
   },
   "file_extension": ".py",
   "mimetype": "text/x-python",
   "name": "python",
   "nbconvert_exporter": "python",
   "pygments_lexer": "ipython3",
   "version": "3.6.3"
  }
 },
 "nbformat": 4,
 "nbformat_minor": 2
}
