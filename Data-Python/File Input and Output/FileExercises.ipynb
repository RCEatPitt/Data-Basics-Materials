{
 "cells": [
  {
   "cell_type": "markdown",
   "metadata": {},
   "source": [
    "**CSV files - Challenge 1**\n",
    "\n",
    "Calculate the _average_ and the _highest (max)_ cholesterol value based on the data available in the dataset.\n"
   ]
  },
  {
   "cell_type": "code",
   "execution_count": null,
   "metadata": {
    "collapsed": true
   },
   "outputs": [],
   "source": [
    "# Step 1: Import csv module\n",
    "import csv"
   ]
  },
  {
   "cell_type": "code",
   "execution_count": null,
   "metadata": {
    "collapsed": true
   },
   "outputs": [],
   "source": [
    "# Step 2: Read the csv file\n",
    "diabetes_file = open(\"diabetes.csv\")\n",
    "diabetes_data = csv.reader(diabetes_file)"
   ]
  },
  {
   "cell_type": "code",
   "execution_count": null,
   "metadata": {},
   "outputs": [],
   "source": [
    "# Step 3: Iterate through csv data\n",
    "cnt = 0 # Initialize a temporary counter\n",
    "diabetes_file.seek(0) # Reset the read position of the file object\n",
    "\n",
    "# Hint: you'll need to declare variables to store average and maximum cholesterol here (outside of the loop)\n",
    "for row in diabetes_data:\n",
    "    if cnt > 0:\n",
    "        ################################################################################################\n",
    "        # This is where you need to complete the logic for calculating average and maximum cholesterol\n",
    "        ################################################################################################\n",
    "        \n",
    "        print(row[1]) # print only the values for the chol column\n",
    "    cnt = cnt + 1 # Increment the counter by one"
   ]
  },
  {
   "cell_type": "markdown",
   "metadata": {},
   "source": [
    "**CSV files - Challenge 1 Solution**"
   ]
  },
  {
   "cell_type": "code",
   "execution_count": null,
   "metadata": {
    "collapsed": true
   },
   "outputs": [],
   "source": [
    "# Step 1: Import csv module\n",
    "import csv"
   ]
  },
  {
   "cell_type": "code",
   "execution_count": null,
   "metadata": {
    "collapsed": true
   },
   "outputs": [],
   "source": [
    "# Step 2: Read the csv file\n",
    "diabetes_file = open(\"diabetes.csv\")\n",
    "diabetes_data = csv.reader(diabetes_file)"
   ]
  },
  {
   "cell_type": "code",
   "execution_count": null,
   "metadata": {},
   "outputs": [],
   "source": [
    "# Step 3: Calculate average cholesterol\n",
    "\n",
    "cnt = 0 # Initialize a temporary counter\n",
    "diabetes_file.seek(0) # Reset the read position of the file object\n",
    "total = 0 # This variable will hold the sum of all cholesterol values\n",
    "\n",
    "for row in diabetes_data:\n",
    "    if row[1] != \"\":\n",
    "        if cnt > 0:\n",
    "            total = total + int(row[1])\n",
    "        cnt = cnt + 1 # Increment the counter by one\n",
    "        \n",
    "print(\"Total: \" , total)\n",
    "print(\"Count: \" , cnt)\n",
    "\n",
    "avg_chol = total / cnt\n",
    "\n",
    "print(\"Average: \", avg_chol)"
   ]
  },
  {
   "cell_type": "code",
   "execution_count": null,
   "metadata": {},
   "outputs": [],
   "source": [
    "# Step 4: Calculate maximum cholesterol\n",
    "\n",
    "cnt = 0 # Initialize a temporary counter\n",
    "diabetes_file.seek(0) # Reset the read position of the file object\n",
    "max_chol = 0 # This variable will hold the sum of all cholesterol values\n",
    "\n",
    "for row in diabetes_data:\n",
    "    if row[1] != \"\":\n",
    "        if cnt > 0:\n",
    "            # Every time through the loop (for every row that contains a value)\n",
    "            # we compare the value from the data with the value stored in \n",
    "            # max_chol variable.  \n",
    "            # If the value from the data is larger, we set max_chol to that larger value\n",
    "            # After the loop finishes running, the largest value will be stored in max_chols\n",
    "            if max_chol < int(row[1]):\n",
    "                max_chol = int(row[1])\n",
    "        cnt = cnt + 1 # Increment the counter by one\n",
    "        \n",
    "\n",
    "print(\"Maximum cholesterol: \", max_chol)"
   ]
  }
 ],
 "metadata": {
  "kernelspec": {
   "display_name": "Python 3",
   "language": "python",
   "name": "python3"
  },
  "language_info": {
   "codemirror_mode": {
    "name": "ipython",
    "version": 3
   },
   "file_extension": ".py",
   "mimetype": "text/x-python",
   "name": "python",
   "nbconvert_exporter": "python",
   "pygments_lexer": "ipython3",
   "version": "3.6.3"
  }
 },
 "nbformat": 4,
 "nbformat_minor": 2
}
