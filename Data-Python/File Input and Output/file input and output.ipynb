{
 "cells": [
  {
   "cell_type": "markdown",
   "metadata": {},
   "source": [
    "# Reading Text Files\n",
    "\n",
    "### Working With CSV Files\n",
    "\n",
    "CSV files are used to store a large number of variables – or data. They are incredibly simplified spreadsheets – think Excel – only the content is stored in plaintext.\n",
    "\n",
    "And the CSV module is a built-in function that allows Python to parse these types of files."
   ]
  },
  {
   "cell_type": "code",
   "execution_count": null,
   "metadata": {
    "collapsed": true
   },
   "outputs": [],
   "source": [
    "# To parse CSV files, we use the csv module. CSV literally stands for comma separated value, \n",
    "# where the comma is what is known as a \"delimiter.\" The csv module provides a number of built-in\n",
    "# functions to make it easier to parse and iterate through CSV files.\n",
    "import csv"
   ]
  },
  {
   "cell_type": "code",
   "execution_count": null,
   "metadata": {
    "collapsed": true
   },
   "outputs": [],
   "source": [
    "# Open the diabetes file.  Note that when Python opens data files and stores them in variables,\n",
    "# the variables DO NOT actually contain text.  In the example below, the diabetes_file \n",
    "# variable stores the file in a special format (one that Python can understand and interpret)\n",
    "diabetes_file = open(\"assets/diabetes.csv\")"
   ]
  },
  {
   "cell_type": "code",
   "execution_count": null,
   "metadata": {},
   "outputs": [],
   "source": [
    "# See what happens when we try to print the variable where the data file is stored\n",
    "# Essentially, the file is treated as an OBJECT - we'll learn about objects next week\n",
    "print(diabetes_file)"
   ]
  },
  {
   "cell_type": "code",
   "execution_count": null,
   "metadata": {
    "collapsed": true
   },
   "outputs": [],
   "source": [
    "# Now we need to tell Python that the file stored in diabetes_file variable should be read as \n",
    "# and interpreted as a CSV file.  We do that by calling on the reader() function of the csv module\n",
    "diabetes_data = csv.reader(diabetes_file)"
   ]
  },
  {
   "cell_type": "code",
   "execution_count": null,
   "metadata": {},
   "outputs": [],
   "source": [
    "# At this point, the entire CSV file is treated as a table - a collection of rows and columns\n",
    "# We can iterate (loop) through this table and get access to each individual row\n",
    "for row in diabetes_data:\n",
    "    print(row)\n",
    "    "
   ]
  },
  {
   "cell_type": "code",
   "execution_count": null,
   "metadata": {
    "scrolled": false
   },
   "outputs": [],
   "source": [
    "# You probably noticed that the row variable is just a list - it is a list of values contained in each column.\n",
    "# You can access individual columns exactly the same way you would access values in a list.\n",
    "# For example, the value of cholesterol is in a column called 'chol', which is a second column and \n",
    "# therefore has the index of 1\n",
    "\n",
    "# Since we already iterated through the CSV file once, we need to tell Python to start at the beginning again\n",
    "# This action is called 'resetting the read position of the file object'\n",
    "diabetes_file.seek(0) \n",
    "\n",
    "for row in diabetes_data:\n",
    "    print(row[1]) # print only the values for the chol column"
   ]
  },
  {
   "cell_type": "code",
   "execution_count": null,
   "metadata": {},
   "outputs": [],
   "source": [
    "# You probably also noticed that the first row does not contain data - it's just the column headers\n",
    "# In order for us to do any mathematical or statistical operations on the data, we need to EXCLUDE the header\n",
    "# One way to do this is with a counter variable\n",
    "\n",
    "cnt = 0 # Initialize a temporary counter\n",
    "diabetes_file.seek(0) # Reset the read position of the file object\n",
    "\n",
    "for row in diabetes_data:\n",
    "    # We will only get the values when the counter is greater then zero.\n",
    "    # Because we initialized the counter to zero above, the first row will be \n",
    "    # excluded.  In order for this to work, it is critical to increment \n",
    "    # the counter by one outside of the if statement but inside of the loop\n",
    "    if cnt > 0:\n",
    "        print(row[1]) # print only the values for the chol column\n",
    "    cnt = cnt + 1 # Increment the counter by one"
   ]
  }
 ],
 "metadata": {
  "kernelspec": {
   "display_name": "Python 3",
   "language": "python",
   "name": "python3"
  },
  "language_info": {
   "codemirror_mode": {
    "name": "ipython",
    "version": 3
   },
   "file_extension": ".py",
   "mimetype": "text/x-python",
   "name": "python",
   "nbconvert_exporter": "python",
   "pygments_lexer": "ipython3",
   "version": "3.6.3"
  }
 },
 "nbformat": 4,
 "nbformat_minor": 2
}
