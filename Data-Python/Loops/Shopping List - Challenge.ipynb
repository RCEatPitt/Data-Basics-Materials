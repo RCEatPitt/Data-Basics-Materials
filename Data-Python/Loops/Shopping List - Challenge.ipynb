{
 "cells": [
  {
   "cell_type": "markdown",
   "metadata": {},
   "source": [
    "# Shopping List\n",
    "\n",
    "This program creates a list called groceries and defines two dictionaries, stock and prices. Using these structures, it computes the bill for the list of groceries.\n",
    "\n",
    "## Challenge\n",
    "\n",
    "Write a loop to determine the value of the store's entire stock. "
   ]
  },
  {
   "cell_type": "code",
   "execution_count": 1,
   "metadata": {
    "collapsed": true
   },
   "outputs": [],
   "source": [
    "# First, create a list called shopping_list that contains the strings \"banana\", \"orange\", and \"apple\"\n",
    "shopping_list = [\"banana\", \"orange\", \"apple\"]"
   ]
  },
  {
   "cell_type": "code",
   "execution_count": 2,
   "metadata": {
    "collapsed": true
   },
   "outputs": [],
   "source": [
    "# Next, create the empty prices dictionary\n",
    "prices = {}\n",
    "\n",
    "# We can then add values to the dictionary\n",
    "prices[\"banana\"] = 4\n",
    "prices[\"apple\"] = 2\n",
    "prices[\"orange\"] = 1.5\n",
    "prices[\"pear\"] = 3"
   ]
  },
  {
   "cell_type": "code",
   "execution_count": 3,
   "metadata": {
    "collapsed": true
   },
   "outputs": [],
   "source": [
    "# Next, create the stock dictionary\n",
    "# We will use a different method from before and simply create the dictionary all at once\n",
    "# Note that we use commas to separate items and a comma does not appear after the last item in the dictionary\n",
    "# Also note that the dictionary can be declared on one line or multiple\n",
    "stock = {\n",
    "    \"banana\": 6,\n",
    "    \"apple\": 0,\n",
    "    \"orange\": 32,\n",
    "    \"pear\": 15\n",
    "}"
   ]
  },
  {
   "cell_type": "code",
   "execution_count": 4,
   "metadata": {},
   "outputs": [
    {
     "name": "stdout",
     "output_type": "stream",
     "text": [
      "banana\n",
      "price: 4\n",
      "stock: 6\n",
      "apple\n",
      "price: 2\n",
      "stock: 0\n",
      "orange\n",
      "price: 1.5\n",
      "stock: 32\n",
      "pear\n",
      "price: 3\n",
      "stock: 15\n"
     ]
    }
   ],
   "source": [
    "# To illustrate how to print out the items in a dictionary along with their associated values, \n",
    "# we can use a loop like the one below\n",
    "for item in prices:\n",
    "    print(item)\n",
    "    print(\"price: \" + str(prices[item]))\n",
    "    print(\"stock: \" + str(stock[item]))"
   ]
  },
  {
   "cell_type": "code",
   "execution_count": 5,
   "metadata": {},
   "outputs": [
    {
     "name": "stdout",
     "output_type": "stream",
     "text": [
      "apples are not in stock!\n"
     ]
    }
   ],
   "source": [
    "# Now we can compute the bill for the shopping list\n",
    "# We will do this by looping through the items in the list, checking to see if the store has the item in stock,\n",
    "# and adding the price to a variable called grocery_bill\n",
    "# Also, we will update the stock dictionary to reflect any changes in the quantity of a good if it is on the list\n",
    "grocery_bill = 0\n",
    "\n",
    "for item in shopping_list:\n",
    "    if stock[item] > 0:\n",
    "        price = prices[item]\n",
    "        grocery_bill = grocery_bill + price\n",
    "        stock[item] = stock[item] - 1\n",
    "    else:\n",
    "        print(item + \"s are not in stock!\")"
   ]
  },
  {
   "cell_type": "code",
   "execution_count": 7,
   "metadata": {},
   "outputs": [
    {
     "name": "stdout",
     "output_type": "stream",
     "text": [
      "Cost of groceries: 5.5\n"
     ]
    }
   ],
   "source": [
    "# Finally, output the result\n",
    "print(\"Cost of groceries: \" + str(grocery_bill))"
   ]
  },
  {
   "cell_type": "code",
   "execution_count": null,
   "metadata": {},
   "outputs": [],
   "source": []
  }
 ],
 "metadata": {
  "kernelspec": {
   "display_name": "Python 3",
   "language": "python",
   "name": "python3"
  },
  "language_info": {
   "codemirror_mode": {
    "name": "ipython",
    "version": 3
   },
   "file_extension": ".py",
   "mimetype": "text/x-python",
   "name": "python",
   "nbconvert_exporter": "python",
   "pygments_lexer": "ipython3",
   "version": "3.6.3"
  }
 },
 "nbformat": 4,
 "nbformat_minor": 2
}
