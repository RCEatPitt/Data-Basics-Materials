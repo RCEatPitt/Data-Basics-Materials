{
 "cells": [
  {
   "cell_type": "markdown",
   "metadata": {},
   "source": [
    "# For Loop"
   ]
  },
  {
   "cell_type": "code",
   "execution_count": null,
   "metadata": {},
   "outputs": [],
   "source": [
    "# Iterating through a range of values\n",
    "for i in range(0, 10):\n",
    "    print(i)"
   ]
  },
  {
   "cell_type": "code",
   "execution_count": null,
   "metadata": {},
   "outputs": [],
   "source": [
    "# Iterating through a range of values to read from a list\n",
    "fruits = ['apples', 'oranges', 'pears', 'peaches', 'berries'];\n",
    "for i in range(0, len(fruits)):\n",
    "    print(fruits[i])"
   ]
  },
  {
   "cell_type": "code",
   "execution_count": null,
   "metadata": {},
   "outputs": [],
   "source": [
    "# Iterating through items in a list\n",
    "fruits = ['apples', 'oranges', 'pears', 'peaches', 'berries'];\n",
    "for item in fruits:\n",
    "    print(item)"
   ]
  },
  {
   "cell_type": "code",
   "execution_count": null,
   "metadata": {},
   "outputs": [],
   "source": [
    "# Iterating through a dictionary\n",
    "dict = {\n",
    "    \"John\" : 37,\n",
    "    \"Bob\" : 50,\n",
    "    \"Jane\" : 29,\n",
    "    \"Ann\" : 71\n",
    "}\n",
    "\n",
    "for key, value in dict.items():\n",
    "    print(key, value)"
   ]
  },
  {
   "cell_type": "code",
   "execution_count": null,
   "metadata": {},
   "outputs": [],
   "source": [
    "# Iterating through a list of dictionaries\n",
    "employees = [\n",
    "    {\n",
    "        \"first_name\" : \"John\",\n",
    "        \"last_name\" : \"Smith\",\n",
    "        \"age\" : 50,\n",
    "        \"has_insurance\" : False\n",
    "    },\n",
    "    {\n",
    "        \"first_name\" : \"Jane\",\n",
    "        \"last_name\" : \"Doe\",\n",
    "        \"age\" : 37,\n",
    "        \"has_insurance\" : True\n",
    "    }\n",
    "]\n",
    "for employee in employees:\n",
    "    print(\"Employee________________________\")\n",
    "    for key, value in employee.items():\n",
    "        print(key + \": \", value)"
   ]
  },
  {
   "cell_type": "markdown",
   "metadata": {},
   "source": [
    "### Exercise:\n",
    "\n",
    "** Shopping List **\n",
    "\n",
    "This program creates a list called groceries and defines two dictionaries, stock and prices. Using these structures, it computes the bill for the list of groceries."
   ]
  },
  {
   "cell_type": "code",
   "execution_count": null,
   "metadata": {
    "collapsed": true
   },
   "outputs": [],
   "source": [
    "# First, create a list called shopping_list that contains the strings \"banana\", \"orange\", and \"apple\"\n",
    "shopping_list = [\"banana\", \"orange\", \"apple\"]"
   ]
  },
  {
   "cell_type": "code",
   "execution_count": null,
   "metadata": {
    "collapsed": true
   },
   "outputs": [],
   "source": [
    "# Next, create the empty prices dictionary\n",
    "prices = {}\n",
    "\n",
    "# We can then add values to the dictionary\n",
    "prices[\"banana\"] = 4\n",
    "prices[\"apple\"] = 2\n",
    "prices[\"orange\"] = 1.5\n",
    "prices[\"pear\"] = 3"
   ]
  },
  {
   "cell_type": "code",
   "execution_count": null,
   "metadata": {
    "collapsed": true
   },
   "outputs": [],
   "source": [
    "# Next, create the stock dictionary\n",
    "# We will use a different method from before and simply create the dictionary all at once\n",
    "# Note that we use commas to separate items and a comma does not appear after the last item in the dictionary\n",
    "# Also note that the dictionary can be declared on one line or multiple\n",
    "stock = {\n",
    "    \"banana\": 6,\n",
    "    \"apple\": 0,\n",
    "    \"orange\": 32,\n",
    "    \"pear\": 15\n",
    "}"
   ]
  },
  {
   "cell_type": "code",
   "execution_count": null,
   "metadata": {},
   "outputs": [],
   "source": [
    "# To illustrate how to print out the items in a dictionary along with their associated values, \n",
    "# we can use a loop like the one below\n",
    "for item in prices:\n",
    "    print(item)\n",
    "    print(\"price: \" + str(prices[item]))\n",
    "    print(\"stock: \" + str(stock[item]))"
   ]
  },
  {
   "cell_type": "code",
   "execution_count": null,
   "metadata": {},
   "outputs": [],
   "source": [
    "# Now we can compute the bill for the shopping list\n",
    "# We will do this by looping through the items in the list, checking to see if the store has the item in stock,\n",
    "# and adding the price to a variable called grocery_bill\n",
    "# Also, we will update the stock dictionary to reflect any changes in the quantity of a good if it is on the list\n",
    "grocery_bill = 0\n",
    "\n",
    "for item in shopping_list:\n",
    "    if stock[item] > 0:\n",
    "        price = prices[item]\n",
    "        grocery_bill = grocery_bill + price\n",
    "        stock[item] = stock[item] - 1\n",
    "    else:\n",
    "        print(item + \"s are not in stock!\")"
   ]
  },
  {
   "cell_type": "code",
   "execution_count": null,
   "metadata": {},
   "outputs": [],
   "source": [
    "# Finally, output the result\n",
    "print(\"Cost of groceries: \" + str(grocery_bill))"
   ]
  },
  {
   "cell_type": "code",
   "execution_count": null,
   "metadata": {
    "collapsed": true
   },
   "outputs": [],
   "source": []
  },
  {
   "cell_type": "markdown",
   "metadata": {},
   "source": [
    "** Shopping List: Challenge 1**\n",
    "\n",
    "Write a loop to determine the value of the store's entire stock. "
   ]
  },
  {
   "cell_type": "code",
   "execution_count": null,
   "metadata": {
    "collapsed": true
   },
   "outputs": [],
   "source": [
    "# Write challenge 1 solution here\n"
   ]
  },
  {
   "cell_type": "markdown",
   "metadata": {},
   "source": [
    "** Shopping List: Challenge 1 Solution**"
   ]
  },
  {
   "cell_type": "code",
   "execution_count": null,
   "metadata": {
    "collapsed": true
   },
   "outputs": [],
   "source": [
    "# First, create a list called shopping_list that contains the strings \"banana\", \"orange\", and \"apple\"\n",
    "shopping_list = [\"banana\", \"orange\", \"apple\"]"
   ]
  },
  {
   "cell_type": "code",
   "execution_count": null,
   "metadata": {
    "collapsed": true
   },
   "outputs": [],
   "source": [
    "# Next, create the empty prices dictionary\n",
    "prices = {}\n",
    "\n",
    "# We can then add values to the dictionary\n",
    "prices[\"banana\"] = 4\n",
    "prices[\"apple\"] = 2\n",
    "prices[\"orange\"] = 1.5\n",
    "prices[\"pear\"] = 3"
   ]
  },
  {
   "cell_type": "code",
   "execution_count": null,
   "metadata": {
    "collapsed": true
   },
   "outputs": [],
   "source": [
    "# Next, create the stock dictionary\n",
    "# We will use a different method from before and simply create the dictionary all at once\n",
    "# Note that we use commas to separate items and a comma does not appear after the last item in the dictionary\n",
    "# Also note that the dictionary can be declared on one line or multiple\n",
    "stock = {\n",
    "    \"banana\": 6,\n",
    "    \"apple\": 0,\n",
    "    \"orange\": 32,\n",
    "    \"pear\": 15\n",
    "}"
   ]
  },
  {
   "cell_type": "code",
   "execution_count": null,
   "metadata": {},
   "outputs": [],
   "source": [
    "# To illustrate how to print out the items in a dictionary along with their associated values, \n",
    "# we can use a loop like the one below\n",
    "for item in prices:\n",
    "    print(item)\n",
    "    print(\"price: \" + str(prices[item]))\n",
    "    print(\"stock: \" + str(stock[item]))"
   ]
  },
  {
   "cell_type": "code",
   "execution_count": null,
   "metadata": {},
   "outputs": [],
   "source": [
    "# Now we can compute the bill for the shopping list\n",
    "# We will do this by looping through the items in the list, checking to see if the store has the item in stock,\n",
    "# and adding the price to a variable called grocery_bill\n",
    "# Also, we will update the stock dictionary to reflect any changes in the quantity of a good if it is on the list\n",
    "grocery_bill = 0\n",
    "\n",
    "for item in shopping_list:\n",
    "    if stock[item] > 0:\n",
    "        price = prices[item]\n",
    "        grocery_bill = grocery_bill + price\n",
    "        stock[item] = stock[item] - 1\n",
    "    else:\n",
    "        print(item + \"s are not in stock!\")\n",
    "        \n",
    "print(\"Your total bill is\", grocery_bill)"
   ]
  },
  {
   "cell_type": "code",
   "execution_count": null,
   "metadata": {},
   "outputs": [],
   "source": [
    "# Challenge solution\n",
    "total_stock = 0\n",
    "\n",
    "for item in stock:\n",
    "    total_stock = total_stock + stock[item] * prices[item]\n",
    "    \n",
    "print(\"The value of the store's stock is \" + str(total_stock))"
   ]
  }
 ],
 "metadata": {
  "kernelspec": {
   "display_name": "Python 3",
   "language": "python",
   "name": "python3"
  },
  "language_info": {
   "codemirror_mode": {
    "name": "ipython",
    "version": 3
   },
   "file_extension": ".py",
   "mimetype": "text/x-python",
   "name": "python",
   "nbconvert_exporter": "python",
   "pygments_lexer": "ipython3",
   "version": "3.6.3"
  }
 },
 "nbformat": 4,
 "nbformat_minor": 2
}
