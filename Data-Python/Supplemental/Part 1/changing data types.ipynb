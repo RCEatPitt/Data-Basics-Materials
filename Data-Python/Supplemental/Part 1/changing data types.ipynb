{
 "cells": [
  {
   "cell_type": "markdown",
   "metadata": {},
   "source": [
    "## Changing Data Types\n",
    "\n",
    "* If you want to do mathematical operations on your data, make sure your data is of the right type\n",
    "* You can't add a string to an integer.\n",
    "* You can't divide a float by a string."
   ]
  },
  {
   "cell_type": "code",
   "execution_count": null,
   "metadata": {},
   "outputs": [],
   "source": [
    "# What will happen when we run this?\n",
    "\"5\" + 5"
   ]
  },
  {
   "cell_type": "markdown",
   "metadata": {},
   "source": [
    "* Use the `int()` function to transform a string into a number"
   ]
  },
  {
   "cell_type": "code",
   "execution_count": null,
   "metadata": {},
   "outputs": [],
   "source": [
    "# store a number as a string\n",
    "number = \"5\"\n",
    "print(type(number))"
   ]
  },
  {
   "cell_type": "code",
   "execution_count": null,
   "metadata": {},
   "outputs": [],
   "source": [
    "# transform number from a string to an int\n",
    "number = int(number)\n",
    "print(type(number))"
   ]
  },
  {
   "cell_type": "markdown",
   "metadata": {},
   "source": [
    "* Use the `str()` function to *coerce* your data into a string"
   ]
  },
  {
   "cell_type": "code",
   "execution_count": null,
   "metadata": {},
   "outputs": [],
   "source": [
    "# transform a number into a string representation\n",
    "number = 5\n",
    "print(type(number))\n",
    "\n",
    "number = str(number)\n",
    "print(type(number))"
   ]
  },
  {
   "cell_type": "markdown",
   "metadata": {},
   "source": [
    "* Use the `float()` function to transform decimal numbers"
   ]
  },
  {
   "cell_type": "code",
   "execution_count": null,
   "metadata": {},
   "outputs": [],
   "source": [
    "# transform a number into a string representation\n",
    "number = \"5.5\"\n",
    "print(type(number))\n",
    "\n",
    "number = float(number)\n",
    "print(type(number))\n",
    "print(number)"
   ]
  },
  {
   "cell_type": "markdown",
   "metadata": {},
   "source": [
    "* The `input()` function always gives you data of type string\n",
    "* If the data you are getting is a number, you got to transform it\n",
    "* Make sure to transform to the right data type! "
   ]
  },
  {
   "cell_type": "code",
   "execution_count": null,
   "metadata": {},
   "outputs": [],
   "source": [
    "# try converting a string containing a decimal to an integer\n",
    "number = input(\"Input a decimal number:\")\n",
    "print(type(number))\n",
    "number = int(number)\n",
    "print(type(number))\n",
    "print(number)"
   ]
  },
  {
   "cell_type": "code",
   "execution_count": null,
   "metadata": {},
   "outputs": [],
   "source": [
    "# convert a decimal to a float\n",
    "number = input(\"Input a decimal number:\")\n",
    "print(type(number))\n",
    "number = float(number)\n",
    "print(type(number))\n",
    "print(number)"
   ]
  }
 ],
 "metadata": {
  "kernelspec": {
   "display_name": "Python 3",
   "language": "python",
   "name": "python3"
  },
  "language_info": {
   "codemirror_mode": {
    "name": "ipython",
    "version": 3
   },
   "file_extension": ".py",
   "mimetype": "text/x-python",
   "name": "python",
   "nbconvert_exporter": "python",
   "pygments_lexer": "ipython3",
   "version": "3.6.3"
  }
 },
 "nbformat": 4,
 "nbformat_minor": 2
}
