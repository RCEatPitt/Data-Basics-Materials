{
 "cells": [
  {
   "cell_type": "markdown",
   "metadata": {},
   "source": [
    "## Putting it all together\n",
    "\n",
    "* The code cell below contains the code for a whole program that combines all of the topics we learned about.\n",
    "* Try running it a few times and see what happens!"
   ]
  },
  {
   "cell_type": "code",
   "execution_count": null,
   "metadata": {},
   "outputs": [],
   "source": [
    "# get the age and animal type from the user\n",
    "age = input(\"Input Age:\")\n",
    "kind = input(\"Cat, Dog, Human\")\n",
    "\n",
    "# make age into an number\n",
    "try:\n",
    "    age = int(age)\n",
    "except:\n",
    "    age = float(age)\n",
    "\n",
    "if kind == \"Human\" or kind == \"human\": # check for caps\n",
    "    if 0 < age < 1:\n",
    "        print(\"baby\")\n",
    "    elif 1 <= age <= 3:\n",
    "        print(\"toddler\")\n",
    "    elif 3 <= age <= 9:\n",
    "        print(\"kid\")\n",
    "    elif 10 <= age <= 12:\n",
    "        print(\"Tween\")\n",
    "    elif 13 <= age <= 17:\n",
    "        print(\"Teen\")\n",
    "    elif 18 <= age <120:\n",
    "        print(\"Adult, welcome to misery.\")\n",
    "    else:\n",
    "        print(\"No one can live that long!\")\n",
    "        \n",
    "elif kind == \"Dog\" or kind == \"dog\": \n",
    "    if 0 < age <= 1:\n",
    "        print(\"Puppy\")\n",
    "        print(age * 7, \"human years.\")\n",
    "    else:\n",
    "        print(\"Adult\")\n",
    "        print(age * 7, \"human years.\")\n",
    "\n",
    "elif kind == \"Cat\" or kind == \"cat\":\n",
    "    if 0 <= age <= 1:\n",
    "        print(\"Innocent Kitten\")\n",
    "        print(\"???\", \"human years.\")\n",
    "    else:\n",
    "        print(\"Evil Beast\")\n",
    "        print(\"???\", \"human years.\")\n",
    "else:\n",
    "    print(\"I don't know that animal.\")"
   ]
  }
 ],
 "metadata": {
  "kernelspec": {
   "display_name": "Python 3",
   "language": "python",
   "name": "python3"
  },
  "language_info": {
   "codemirror_mode": {
    "name": "ipython",
    "version": 3
   },
   "file_extension": ".py",
   "mimetype": "text/x-python",
   "name": "python",
   "nbconvert_exporter": "python",
   "pygments_lexer": "ipython3",
   "version": "3.6.3"
  }
 },
 "nbformat": 4,
 "nbformat_minor": 2
}
