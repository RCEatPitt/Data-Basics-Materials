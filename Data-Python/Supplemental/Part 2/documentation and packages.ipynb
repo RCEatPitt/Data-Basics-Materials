{
 "cells": [
  {
   "cell_type": "code",
   "execution_count": null,
   "metadata": {},
   "outputs": [],
   "source": []
  },
  {
   "cell_type": "markdown",
   "metadata": {},
   "source": [
    "## Documentation\n",
    "\n",
    "Python, like most other languages, has extensive official **documentation** available online. In your lab exercises this week, there are a few points where you'll have to read and interpret documentation. \n",
    "\n",
    "Let's take a short look at the [standard function documentation](https://docs.python.org/3/library/functions.html)."
   ]
  },
  {
   "cell_type": "markdown",
   "metadata": {},
   "source": [
    "## Packages\n",
    "\n",
    "Functions provided to you, the programmer, can be grouped into **packages** for distribution purposes. Don't worry about the specifics of that right now. Python provides a bunch of packages standard, but the Python community is legendary for writing packages concerning basically anything you could possibly want to do with Python.\n",
    "\n",
    "The only thing that's relevant right now, package-wise, is **importing**. Importing a package is simple: at the top of a Python file, just put the words `import` and the package name you want to import. Simple, huh?"
   ]
  }
 ],
 "metadata": {
  "kernelspec": {
   "display_name": "Python 3",
   "language": "python",
   "name": "python3"
  },
  "language_info": {
   "codemirror_mode": {
    "name": "ipython",
    "version": 3
   },
   "file_extension": ".py",
   "mimetype": "text/x-python",
   "name": "python",
   "nbconvert_exporter": "python",
   "pygments_lexer": "ipython3",
   "version": "3.6.3"
  }
 },
 "nbformat": 4,
 "nbformat_minor": 2
}
