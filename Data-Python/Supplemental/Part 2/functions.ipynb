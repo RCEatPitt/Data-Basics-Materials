{
 "cells": [
  {
   "cell_type": "markdown",
   "metadata": {},
   "source": [
    "## Functions\n",
    "\n",
    "A **function**, most basically, is a group of code that executes together when you call its name."
   ]
  },
  {
   "cell_type": "code",
   "execution_count": null,
   "metadata": {},
   "outputs": [],
   "source": [
    "def my_cool_function():\n",
    "    print(\"I'm so cool.\")\n",
    "    print(\"Just look at what everyone calls me.\")\n",
    "    \n",
    "my_cool_function()"
   ]
  },
  {
   "cell_type": "markdown",
   "metadata": {},
   "source": [
    "Functions can have **arguments**, which are variables that the function can do stuff with. You **pass** a variable to a function by putting it in the parentheses after the function name."
   ]
  },
  {
   "cell_type": "code",
   "execution_count": null,
   "metadata": {},
   "outputs": [],
   "source": [
    "def hello(name):\n",
    "    print(\"Hello,\", name)\n",
    "    \n",
    "hello(\"Bob\")\n",
    "hello(\"everyone\")"
   ]
  },
  {
   "cell_type": "markdown",
   "metadata": {},
   "source": [
    "All the code in a function is in a **block**, which, for Python, means that it's at the same indentation level. When you're done defining a function, just hit the backspace key until you're back at the normal indentation level. It's not required, but it's good practics to include a blank line after a function definition.\n",
    "\n",
    "You can reference functions from other functions. When you call a function, all of its code runs like normal."
   ]
  },
  {
   "cell_type": "code",
   "execution_count": null,
   "metadata": {},
   "outputs": [],
   "source": [
    "def lyrics():\n",
    "    print(\"This is the song that never ends.\")\n",
    "    print(\"It goes on and on, my friends.\")\n",
    "\n",
    "def song():\n",
    "    lyrics()\n",
    "    lyrics()\n",
    "    \n",
    "song()"
   ]
  },
  {
   "cell_type": "markdown",
   "metadata": {},
   "source": [
    "We'll revisit the song that never ends when we talk about **infinite loops**. :)\n",
    "\n",
    "One last thing: functions can **return** values, but they don't have to. Returning a value means that wherever you call the function, you can \"catch\" that value in a variable and use it in your program. This one's a little hard to see, but we'll look at a few examples."
   ]
  },
  {
   "cell_type": "code",
   "execution_count": null,
   "metadata": {},
   "outputs": [],
   "source": [
    "def add_three(num1, num2, num3):\n",
    "    sum = num1 + num2 + num3;\n",
    "    return sum\n",
    "\n",
    "my_sum = add_three(1, 2, 3)\n",
    "\n",
    "print(my_sum)"
   ]
  },
  {
   "cell_type": "code",
   "execution_count": null,
   "metadata": {},
   "outputs": [],
   "source": [
    "def whats_my_name():\n",
    "    return \"Sean Bailey\"\n",
    "\n",
    "whats_my_name()\n",
    "\n",
    "my_name = whats_my_name()"
   ]
  },
  {
   "cell_type": "code",
   "execution_count": null,
   "metadata": {},
   "outputs": [],
   "source": [
    "my_number = int(\"200\") # is there a value being returned here?"
   ]
  },
  {
   "cell_type": "code",
   "execution_count": null,
   "metadata": {},
   "outputs": [],
   "source": [
    "stuff = print(\"Lorem ipsum dolor sit amet\")\n",
    "print(stuff)"
   ]
  }
 ],
 "metadata": {
  "kernelspec": {
   "display_name": "Python 3",
   "language": "python",
   "name": "python3"
  },
  "language_info": {
   "codemirror_mode": {
    "name": "ipython",
    "version": 3
   },
   "file_extension": ".py",
   "mimetype": "text/x-python",
   "name": "python",
   "nbconvert_exporter": "python",
   "pygments_lexer": "ipython3",
   "version": "3.6.3"
  }
 },
 "nbformat": 4,
 "nbformat_minor": 2
}
