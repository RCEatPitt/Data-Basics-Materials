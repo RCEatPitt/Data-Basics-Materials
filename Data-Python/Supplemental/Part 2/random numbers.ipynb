{
 "cells": [
  {
   "cell_type": "markdown",
   "metadata": {},
   "source": [
    "## Random Numbers\n",
    "\n",
    "The standard Python package `random` provides the ability to generate **pseudorandom numbers**. (Don't use these for cryptography or security.) The easiest way to dip your toes into random numbers is to just generate some, so let's run some sample code."
   ]
  },
  {
   "cell_type": "code",
   "execution_count": null,
   "metadata": {},
   "outputs": [],
   "source": [
    "import random # see how easy that is?\n",
    "\n",
    "x = random.random()\n",
    "print(x)"
   ]
  },
  {
   "cell_type": "markdown",
   "metadata": {},
   "source": [
    "Run that a few times. What can you tell about the numbers that the `random()` function is generating?\n",
    "\n",
    "(Side note: you run functions from a package using a dot! So, `pizza.list_toppings()` is the `list_toppings()` function from the package named `pizza`.)\n",
    "\n",
    "Generating just decimals is useful for a lot of things, and you'll find that the default random number generator in a lot of programming languages will do the same thing that Python does. But there's one that you'll use a lot more, at least right now: `randint()`. Let's take a look:"
   ]
  },
  {
   "cell_type": "code",
   "execution_count": null,
   "metadata": {},
   "outputs": [],
   "source": [
    "random.randint(5, 10)"
   ]
  },
  {
   "cell_type": "markdown",
   "metadata": {},
   "source": [
    "Let's break down this function a bit. \n",
    "\n",
    "* arguments\n",
    "* range\n",
    "* return value"
   ]
  },
  {
   "cell_type": "markdown",
   "metadata": {},
   "source": [
    "Random numbers in Python can be useful if you want a bunch of sample data to test out a function. It's easier to write a loop to generate 10,000 random integers between 0 and 1 million than it is to type them in manually. (Duh.)"
   ]
  }
 ],
 "metadata": {
  "kernelspec": {
   "display_name": "Python 3",
   "language": "python",
   "name": "python3"
  },
  "language_info": {
   "codemirror_mode": {
    "name": "ipython",
    "version": 3
   },
   "file_extension": ".py",
   "mimetype": "text/x-python",
   "name": "python",
   "nbconvert_exporter": "python",
   "pygments_lexer": "ipython3",
   "version": "3.6.3"
  }
 },
 "nbformat": 4,
 "nbformat_minor": 2
}
