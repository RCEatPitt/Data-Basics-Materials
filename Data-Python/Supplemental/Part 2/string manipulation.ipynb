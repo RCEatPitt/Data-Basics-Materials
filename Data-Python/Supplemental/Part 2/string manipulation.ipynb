{
 "cells": [
  {
   "cell_type": "markdown",
   "metadata": {},
   "source": [
    "## String Manipulation\n",
    "\n",
    "There are two ways to approach dealing with strings:\n",
    "\n",
    "1. Learn a bunch of methods that do stuff, use them individually, and forget about them twenty minutes after you finish the exercise.\n",
    "\n",
    "2. Do some string manipulation. Remember that you can just Google for how to do Python string manipulation.\n",
    "\n",
    "So... who wants to memorize a list of methods?"
   ]
  },
  {
   "cell_type": "code",
   "execution_count": null,
   "metadata": {},
   "outputs": [],
   "source": [
    "# From stephen.marquard@pitt.edu Sat Jan  5 09:14:16 2008\n",
    "# what we want: just the url (pitt.edu)"
   ]
  }
 ],
 "metadata": {
  "kernelspec": {
   "display_name": "Python 3",
   "language": "python",
   "name": "python3"
  },
  "language_info": {
   "codemirror_mode": {
    "name": "ipython",
    "version": 3
   },
   "file_extension": ".py",
   "mimetype": "text/x-python",
   "name": "python",
   "nbconvert_exporter": "python",
   "pygments_lexer": "ipython3",
   "version": "3.6.3"
  }
 },
 "nbformat": 4,
 "nbformat_minor": 2
}
