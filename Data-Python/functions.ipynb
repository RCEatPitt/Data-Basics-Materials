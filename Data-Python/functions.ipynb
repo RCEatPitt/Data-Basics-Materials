{
 "cells": [
  {
   "cell_type": "markdown",
   "metadata": {},
   "source": [
    "# Functions\n",
    "\n",
    "[https://www.tutorialspoint.com/python/python_functions.htm]\n",
    "\n",
    "* A function is a block of organized, reusable code that is used to perform a single, related action. \n",
    "* Functions provide better modularity for your application and a high degree of code reusing.\n",
    "\n",
    "### Defining a Function\n",
    "\n",
    "* Function blocks begin with the keyword _def_ followed by the function name and parentheses _(  )_.\n",
    "* Any input parameters or arguments should be placed within these parentheses. You can also define parameters inside these parentheses.\n",
    "* The code block within every function starts with a colon (:) and is indented.\n",
    "* The statement _return [expression]_ exits a function, optionally passing back an expression to the caller. A return statement with no arguments is the same as return None.\n",
    "\n",
    "### Syntax\n",
    "def functionname( parameters ):\n",
    "\n",
    "    function code\n",
    "    more code\n",
    "    even more code\n",
    "\n",
    "    return [expression]\n"
   ]
  },
  {
   "cell_type": "code",
   "execution_count": null,
   "metadata": {
    "collapsed": true
   },
   "outputs": [],
   "source": [
    "# Function name: add_two_numbers\n",
    "# Parameter(s): num1, num2\n",
    "# Description: This function adds two numbers\n",
    "# Return: This function returns a sum of two numbers\n",
    "def add_two_numbers(num1, num2):\n",
    "    sum_of_two_numbers = num1 + num2\n",
    "    return sum_of_two_numbers"
   ]
  },
  {
   "cell_type": "code",
   "execution_count": null,
   "metadata": {},
   "outputs": [],
   "source": [
    "# Calling a function\n",
    "result = add_two_numbers(5, 7)\n",
    "print(result)"
   ]
  },
  {
   "cell_type": "code",
   "execution_count": null,
   "metadata": {
    "collapsed": true
   },
   "outputs": [],
   "source": [
    "# You can pass variables instead of literal parameters into a function\n",
    "var1 = 10\n",
    "var2 = 20\n",
    "result = add_two_numbers(var1, var2)"
   ]
  },
  {
   "cell_type": "markdown",
   "metadata": {},
   "source": [
    "**Important notes about functions**\n",
    "* A function name along with its parameters make up the functions **signature**\n",
    "* When calling a function, you must pass values for each parameter in EXACTLY the same order as it appears in the parameter list\n",
    "\n",
    "**Named parameters**\n",
    "* Sometimes, we want parameters to have default values (values that will be automatically assigned to a parameter)\n",
    "* Sometimes, we also want to pick and choose which parameters to pass into a function (have optional parameters)\n",
    "* To address these two use cases, we can create functions with **named** parameters\n",
    "\n",
    "**Syntax for functions with named parameters:**\n",
    "\n",
    "def functionname( parameter_1_name = parameter_1_value, parameter_2_name = parameter_2_value ):\n",
    "\n",
    "    function code\n",
    "    more code\n",
    "    even more code\n",
    "\n",
    "    return [expression]\n"
   ]
  },
  {
   "cell_type": "code",
   "execution_count": null,
   "metadata": {
    "collapsed": true
   },
   "outputs": [],
   "source": [
    "# Note that \"operation\" is a named parameter.  \n",
    "# It has a default value of \"add\" and can be skipped alltogether\n",
    "def do_math_with_two_numbers(num1, num2, operation = \"add\"):\n",
    "    if operation == \"add\":\n",
    "        result = num1 + num2\n",
    "    elif operation == \"subtract\":\n",
    "        result = num1 - num2\n",
    "    elif operation == \"multiply\":\n",
    "        result = num1 * num2\n",
    "    elif operation == \"divide\":\n",
    "        result = num1 / num2\n",
    "    return result"
   ]
  },
  {
   "cell_type": "code",
   "execution_count": null,
   "metadata": {},
   "outputs": [],
   "source": [
    "# Call the function without the named parameter\n",
    "test = do_math_with_two_numbers(5, 10)\n",
    "print(test)\n",
    "\n",
    "# Call the function with the named parameter\n",
    "test = do_math_with_two_numbers(5, 10, operation=\"subtract\")\n",
    "print(test)\n",
    "\n"
   ]
  }
 ],
 "metadata": {
  "kernelspec": {
   "display_name": "Python 3",
   "language": "python",
   "name": "python3"
  },
  "language_info": {
   "codemirror_mode": {
    "name": "ipython",
    "version": 3
   },
   "file_extension": ".py",
   "mimetype": "text/x-python",
   "name": "python",
   "nbconvert_exporter": "python",
   "pygments_lexer": "ipython3",
   "version": "3.6.3"
  }
 },
 "nbformat": 4,
 "nbformat_minor": 2
}
