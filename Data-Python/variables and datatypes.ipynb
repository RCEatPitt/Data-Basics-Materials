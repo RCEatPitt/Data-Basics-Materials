{
 "cells": [
  {
   "cell_type": "markdown",
   "metadata": {},
   "source": [
    "# Variables"
   ]
  },
  {
   "cell_type": "markdown",
   "metadata": {},
   "source": [
    "**Programming v/s math**\n",
    "\n",
    "_x = 1_\n",
    "\n",
    "* In math this means x is equal to 1\n",
    "* In programming this means the value 1 is stored in variable x\n",
    "\n",
    "_x = x + 1_\n",
    "\n",
    "* In math this is wrong\n",
    "* In programming this is perfectly valid\n",
    "\n"
   ]
  },
  {
   "cell_type": "markdown",
   "metadata": {},
   "source": [
    "**Variables in Python**\n",
    "\n",
    "* A Variable is a SPACE in memory where a VALUE can be stored\n",
    "* The VALUE can change - so it is variable ;)\n",
    "* In Python variable CAN change it’s TYPE\n"
   ]
  },
  {
   "cell_type": "code",
   "execution_count": null,
   "metadata": {
    "collapsed": true
   },
   "outputs": [],
   "source": [
    "x = 5  # x is a number\n",
    "x = 'Hello' # x is a string"
   ]
  },
  {
   "cell_type": "markdown",
   "metadata": {},
   "source": [
    "**Memory Allocation – a metaphor**\n",
    "\n",
    "\n",
    "<img src=\"images/variables/address.jpeg\" />\n",
    "\n",
    "The address _5818 Phillips Avenue, Pittsburgh, PA 15217_ maps to georgraphic coordinates of _40.432392,-79.922378_ -- it is essentially a label for a specific latitude and longitude.\n",
    "\n",
    "You can think of variables as labels for locations in memory where our data is stored."
   ]
  },
  {
   "cell_type": "code",
   "execution_count": null,
   "metadata": {},
   "outputs": [],
   "source": [
    "# Integer Variables (int)\n",
    "x = 5 # x contains an integer 5\n",
    "x = x + 2\n",
    "x = x - 4 # What is the value of x now?\n",
    "print(x)"
   ]
  },
  {
   "cell_type": "code",
   "execution_count": null,
   "metadata": {
    "collapsed": true
   },
   "outputs": [],
   "source": [
    "# Floating Point Variables (float)\n",
    "x = 2.5\n",
    "y = 3.7521\n",
    "pi = 3.141592653589793238"
   ]
  },
  {
   "cell_type": "code",
   "execution_count": null,
   "metadata": {
    "collapsed": true
   },
   "outputs": [],
   "source": [
    "# Simple Mathematical Operations\n",
    "x = 5\n",
    "y = 10\n",
    "z = x + y # addition\n",
    "z = x - y # subtraction\n",
    "z = x * y # multiplication\n",
    "z = x / y # division\n",
    "z = x ** y # x to the power of y\n"
   ]
  },
  {
   "cell_type": "code",
   "execution_count": null,
   "metadata": {
    "collapsed": true
   },
   "outputs": [],
   "source": [
    "# String Variables \n",
    "name = \"Bob\"\n",
    "car = \"Ford Pinto\"\n",
    "address = '5818 Phillips Avenue, Pittsburgh, PA 15217'"
   ]
  },
  {
   "cell_type": "code",
   "execution_count": null,
   "metadata": {},
   "outputs": [],
   "source": [
    "# Combining strings\n",
    "first_name = 'John'\n",
    "last_name = 'Doe'\n",
    "full_name = 'John' + ' ' + 'Doe'\n",
    "print(full_name)"
   ]
  },
  {
   "cell_type": "code",
   "execution_count": null,
   "metadata": {
    "collapsed": true
   },
   "outputs": [],
   "source": [
    "# Boolean variables\n",
    "x = True\n",
    "y = False"
   ]
  },
  {
   "cell_type": "markdown",
   "metadata": {},
   "source": [
    "**Boolean Truth Table**\n",
    "<img src='images/variables/truth_table.png' />"
   ]
  },
  {
   "cell_type": "code",
   "execution_count": null,
   "metadata": {
    "collapsed": true
   },
   "outputs": [],
   "source": [
    "# Typecasting: converting from one data type to another\n",
    "x = 5\n",
    "y = str(x) # Convert from integer to string\n",
    "\n",
    "x = '5'\n",
    "y = int(x) # Convert from string to integer\n",
    "\n",
    "x = '5'\n",
    "y = float(x) # Convert from a string to a decimal number\n",
    "\n"
   ]
  },
  {
   "cell_type": "markdown",
   "metadata": {},
   "source": [
    "**Exercise: Pythagorean Theorem**\n",
    "\n",
    "This program accepts two input values from the user, one for each\n",
    "side of a right-angle triangle.  The program uses the Pythagorean\n",
    "theorem (c^2 = a^2 + b^2) to calculate the length of the triangle's\n",
    "hypotenuse.\n"
   ]
  },
  {
   "cell_type": "code",
   "execution_count": null,
   "metadata": {
    "collapsed": true
   },
   "outputs": [],
   "source": [
    "# A module allows you to logically organize your Python code. Grouping related code into a module\n",
    "# makes the code easier to understand and use.\n",
    "# Simply, a module is a file consisting of Python code. A module can define functions, classes and variables.\n",
    "# A module can also include runnable code.\n",
    "# math module gives us access to special functions that perform mathematical operations, functions such as square root or power\n",
    "import math"
   ]
  },
  {
   "cell_type": "code",
   "execution_count": null,
   "metadata": {},
   "outputs": [],
   "source": [
    "# Get user input for Side A\n",
    "inputSideA = input(\"Enter length of side A \")\n",
    "\n",
    "print(\"Side A: \" + str(inputSideA))"
   ]
  },
  {
   "cell_type": "code",
   "execution_count": null,
   "metadata": {},
   "outputs": [],
   "source": [
    "# Get user input for Side B\n",
    "inputSideB = input(\"Enter length of side B \")\n",
    "\n",
    "print(\"Side B: \" + str(inputSideB))"
   ]
  },
  {
   "cell_type": "code",
   "execution_count": null,
   "metadata": {
    "collapsed": true
   },
   "outputs": [],
   "source": [
    "# Values entered through user input are stored as strings (String data type).  We need to\n",
    "# convert sides' lengths from String to float\n",
    "sideA = float(inputSideA)\n",
    "sideB = float(inputSideB)"
   ]
  },
  {
   "cell_type": "code",
   "execution_count": null,
   "metadata": {
    "collapsed": true
   },
   "outputs": [],
   "source": [
    "# Math.pow(a, b) is a function that takes the value of the first argument \"a\"\n",
    "# and raises it to the power of the second argument \"b\"\n",
    "\n",
    "# Calculate square of side A\n",
    "# Note that ** (double asterisk) is an exponent operand.  It performs exponential (power) calculation on operators\n",
    "squareSideA = sideA ** 2\n",
    "\n",
    "# Calculate square of side B\n",
    "squareSideB = sideB ** 2"
   ]
  },
  {
   "cell_type": "code",
   "execution_count": null,
   "metadata": {
    "collapsed": true
   },
   "outputs": [],
   "source": [
    "# Use Pythagorean theorem to calculate the length of the triangle's hypotenuse.\n",
    "# math.sqrt(a) function calculates the square root of the argument \"a\"\n",
    "hypotenuse = math.sqrt(squareSideA + squareSideB)\n"
   ]
  },
  {
   "cell_type": "code",
   "execution_count": null,
   "metadata": {},
   "outputs": [],
   "source": [
    "# Print out the results\n",
    "print(\"Given that side A is \" + str(sideA) + \" and side B is \" + str(sideB) + \", the hypotenuse is \" + str(hypotenuse))"
   ]
  },
  {
   "cell_type": "markdown",
   "metadata": {},
   "source": [
    "## Challenge\n",
    "\n",
    "Modify the program to accept input for the lengths of one adjacent side and the hypotenuse of a right triangle. Calculate the second adjacent side."
   ]
  },
  {
   "cell_type": "markdown",
   "metadata": {},
   "source": [
    "**Step 1:** Get user input for Side A"
   ]
  },
  {
   "cell_type": "code",
   "execution_count": null,
   "metadata": {},
   "outputs": [],
   "source": [
    "# Step 1 code\n",
    "inputSideA = input(\"Enter length of side A \")\n",
    "\n",
    "print(\"Side A: \" + str(inputSideA))"
   ]
  },
  {
   "cell_type": "markdown",
   "metadata": {},
   "source": [
    "**Step 2:** Get user input for Hypothenuse"
   ]
  },
  {
   "cell_type": "code",
   "execution_count": null,
   "metadata": {
    "collapsed": true
   },
   "outputs": [],
   "source": [
    "# Write Step 2 code here\n"
   ]
  },
  {
   "cell_type": "markdown",
   "metadata": {},
   "source": [
    "**Step 3:** Remember that values entered through user input are stored as strings (String data type).  You will need to convert sides' lengths from _String_ to _float_"
   ]
  },
  {
   "cell_type": "code",
   "execution_count": null,
   "metadata": {
    "collapsed": true
   },
   "outputs": [],
   "source": [
    "# Write Step 3 code here\n"
   ]
  },
  {
   "cell_type": "markdown",
   "metadata": {},
   "source": [
    "**Step 4:** Calculate squares of side A and of hypothenuse"
   ]
  },
  {
   "cell_type": "code",
   "execution_count": null,
   "metadata": {
    "collapsed": true
   },
   "outputs": [],
   "source": [
    "# Write Step 4 code here"
   ]
  },
  {
   "cell_type": "markdown",
   "metadata": {},
   "source": [
    "**Step 5:** Use Pythagorean theorem to calculate the length of Side B\n",
    "\n",
    "_Hint: Side B = square root of square of Hypotenuse - square of Side A)_\n"
   ]
  },
  {
   "cell_type": "code",
   "execution_count": null,
   "metadata": {
    "collapsed": true
   },
   "outputs": [],
   "source": [
    "# Write Step 5 code here"
   ]
  },
  {
   "cell_type": "markdown",
   "metadata": {},
   "source": [
    "**Step 6**: Print results"
   ]
  },
  {
   "cell_type": "code",
   "execution_count": null,
   "metadata": {
    "collapsed": true
   },
   "outputs": [],
   "source": [
    "# Write Step 6 code here"
   ]
  },
  {
   "cell_type": "markdown",
   "metadata": {},
   "source": [
    "## Pythagorean Theorem Challenge Solution"
   ]
  },
  {
   "cell_type": "code",
   "execution_count": null,
   "metadata": {},
   "outputs": [],
   "source": [
    "# Get user input for Side A\n",
    "inputSideA = input(\"Enter length of side A \")\n",
    "\n",
    "print(\"Side A: \" + str(inputSideA))"
   ]
  },
  {
   "cell_type": "code",
   "execution_count": null,
   "metadata": {},
   "outputs": [],
   "source": [
    "# Get user input for hypotenuse\n",
    "inputHypotenuse = input(\"Enter length of the hypotenuse \")\n",
    "\n",
    "print(\"Hypotenuse: \" + str(inputHypotenuse))"
   ]
  },
  {
   "cell_type": "code",
   "execution_count": null,
   "metadata": {
    "collapsed": true
   },
   "outputs": [],
   "source": [
    "# Values entered through user input are stored as strings (String data type).  We need to\n",
    "# convert sides' lengths from String to float\n",
    "sideA = float(inputSideA)\n",
    "hypotenuse = float(inputHypotenuse)"
   ]
  },
  {
   "cell_type": "code",
   "execution_count": null,
   "metadata": {
    "collapsed": true
   },
   "outputs": [],
   "source": [
    "# Calculate square of side A\n",
    "squareSideA = sideA ** 2\n",
    "\n",
    "# Calculate square of hypotenuse\n",
    "squareHypotenuse = hypotenuse ** 2"
   ]
  },
  {
   "cell_type": "code",
   "execution_count": null,
   "metadata": {
    "collapsed": true
   },
   "outputs": [],
   "source": [
    "# Use Pythagorean theorem to calculate the length of the triangle's other adjacent side.\n",
    "# We know that Math.pow(hypotenuse, 2) = Math.pow(sideA, 2) + Math.pow(sideB, 2)\n",
    "# Therefore Math.pow(sideB, 2) = Math.pow(hypotenuse, 2) - Math.pow(sideA, 2)\n",
    "# Finally, we take a square root of both sides:\n",
    "#sideB = Math.sqrt(Math.pow(hypotenuse, 2) - Math.pow(sideA, 2))\n",
    "\n",
    "sideB = math.sqrt(squareHypotenuse - squareSideA)\n"
   ]
  },
  {
   "cell_type": "code",
   "execution_count": null,
   "metadata": {},
   "outputs": [],
   "source": [
    "# Print out the results\n",
    "print(\"Given that side A is \" + str(sideA) + \" and the hypotenuse is \" + str(hypotenuse) + \", side B is \" + str(sideB))"
   ]
  }
 ],
 "metadata": {
  "kernelspec": {
   "display_name": "Python 3",
   "language": "python",
   "name": "python3"
  },
  "language_info": {
   "codemirror_mode": {
    "name": "ipython",
    "version": 3
   },
   "file_extension": ".py",
   "mimetype": "text/x-python",
   "name": "python",
   "nbconvert_exporter": "python",
   "pygments_lexer": "ipython3",
   "version": "3.6.3"
  }
 },
 "nbformat": 4,
 "nbformat_minor": 2
}
