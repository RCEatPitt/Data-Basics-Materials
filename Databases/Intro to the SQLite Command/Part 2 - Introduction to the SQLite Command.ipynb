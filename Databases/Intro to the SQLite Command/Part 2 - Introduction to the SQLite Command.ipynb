{
 "cells": [
  {
   "cell_type": "markdown",
   "metadata": {},
   "source": [
    "# Introduction to the SQLite Command Prompt\n",
    "---\n",
    "In the late 1920s and early 1930s, William Dyer, Frank Pabodie, and Valentina Roerich led expeditions to the Pole of Inaccessibility in the South Pacific, and then onward to Antarctica. Two years ago, their expeditions were found in a storage locker at Miskatonic University. We have scanned and OCR the data they contain, and we now want to store that information in a way that will make search and analysis easy.\n",
    "\n",
    "Three common options for storage are text files, spreadsheets, and databases. Text files are easiest to create, and work well with version control, but then we would have to build search and analysis tools ourselves. Spreadsheets are good for doing simple analyses, but they don’t handle large or complex data sets well. Databases, however, include powerful tools for search and analysis, and can handle large, complex data sets. These lessons will show how to use a database to explore the expeditions’ data."
   ]
  },
  {
   "cell_type": "markdown",
   "metadata": {},
   "source": [
    "## Setup and SQLite\n",
    "---\n",
    "For this lesson you will need your UNIX shell (open one up with the + button in the upper left hand corner of this page and select the terminal), plus SQLite3 and the database file we'll be using: survey.db.\n",
    "\n",
    "A **relational database** is a way to store and manipulate information. Databases are arranged as **tables**. Each table has columns (also known as **fields**) that describe the data, and rows (also known as **records**) which contain the data.\n",
    "\n",
    "When we are using a spreadsheet, we put formulas into cells to calculate new values based on old ones. When we are using a database, we send commands (usually called **queries**) to a **database manager**: a program that manipulates the database for us. The database manager does whatever lookups and calculations the query specifies, returning the results in a tabular form that we can then use as a starting point for further queries.\n",
    "\n",
    "#### Changing Database Managers\n",
    "\n",
    "Every database manager — Oracle, IBM DB2, PostgreSQL, MySQL, Microsoft Access, and SQLite — stores data in a different way, so a database created with one cannot be used directly by another. However, every database manager can import and export data in a variety of formats, like .csv, so it is possible to move information from one to another.\n",
    "\n",
    "Queries are written in a language called **SQL**, which stands for “Structured Query Language”. SQL provides hundreds of different ways to analyze and recombine data. We will only look at a handful of queries, but that handful accounts for most of what scientists do.\n",
    "\n",
    "#### Getting Into and Out of SQLite\n",
    "In order to use the SQLite commands interactively, we need to enter into the SQLite console. So, open up a terminal, and run:"
   ]
  },
  {
   "cell_type": "raw",
   "metadata": {},
   "source": [
    "$ cd /path/to/survey/data/\n",
    "$ sqlite3 survey.db"
   ]
  },
  {
   "cell_type": "markdown",
   "metadata": {},
   "source": [
    "The SQLite command is **sqlite3** and you are telling SQLite to open up the **survey.db**. You need to specify the **.db** file otherwise, SQLite will open up a temporary, empty database.\n",
    "\n",
    "To get out of SQLite, type out **.exit** or **.quit**. For some terminals, **Ctrl-D** can also work. If you forget any SQLite . (dot) command, type **.help**.\n",
    "\n",
    "#### Checking if Data is Available\n",
    "\n",
    "All SQLite-specific commands are prefixed with a . to distinguish them from SQL commands. Type **.tables** to list the tables in the database."
   ]
  },
  {
   "cell_type": "raw",
   "metadata": {},
   "source": [
    ".tables"
   ]
  },
  {
   "cell_type": "markdown",
   "metadata": {},
   "source": [
    "We can use the command **.schema TABLENAME** to show us the create statement for a table - this basically tells us all that we need to know about the attributes in a certain table."
   ]
  },
  {
   "cell_type": "raw",
   "metadata": {},
   "source": [
    ".schema Person"
   ]
  },
  {
   "cell_type": "markdown",
   "metadata": {},
   "source": [
    "You can change some SQLite settings to make the output easier to read. First, set the output mode to display left-aligned columns. Then turn on the display of column headers."
   ]
  },
  {
   "cell_type": "raw",
   "metadata": {},
   "source": [
    ".mode column\n",
    ".header on"
   ]
  }
 ],
 "metadata": {
  "kernelspec": {
   "display_name": "Python 3",
   "language": "python",
   "name": "python3"
  },
  "language_info": {
   "codemirror_mode": {
    "name": "ipython",
    "version": 3
   },
   "file_extension": ".py",
   "mimetype": "text/x-python",
   "name": "python",
   "nbconvert_exporter": "python",
   "pygments_lexer": "ipython3",
   "version": "3.6.3"
  }
 },
 "nbformat": 4,
 "nbformat_minor": 2
}
