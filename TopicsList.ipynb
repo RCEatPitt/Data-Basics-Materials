{
 "cells": [
  {
   "cell_type": "markdown",
   "metadata": {},
   "source": [
    "Topics List\n",
    "\n",
    "1. Data-Python \n",
    "    * introduction\n",
    "    * control flow\n",
    "    * data structures\n",
    "    * file input and output\n",
    "    * functions\n",
    "    * loops\n",
    "    * variables and datatypes\n",
    "2. Data-Management\n",
    "\n",
    "    * Why Pandas\n",
    "    * Data Structures\n",
    "    * Loading Data\n",
    "    * Basic Data Manipulation\n",
    "    * Intro to Part Two\n",
    "    * Data Cleaning\n",
    "    * Data Wrangling\n",
    "    * Working With Time\n",
    "3. Computing-Environments\n",
    "    * Reading CSV files\n",
    "    * Intro to Shell\n",
    "    * Navigating FIles and Directories \n",
    "    * Working with Files\n",
    "    * Git and Github\n",
    "4. Data-Visualization\n",
    "    * Working with Timeseries data\n",
    "    * Matplotlib\n",
    "    * Plotting with Pandas\n",
    "5. Databases\n",
    "    * Intro to the Relational Model\n",
    "    * Intro to the SQLite Command\n",
    "    * SQLite Command Prompt Examples\n",
    "    * SQL from Pandas\n",
    "    \n",
    "\n",
    " "
   ]
  },
  {
   "cell_type": "code",
   "execution_count": null,
   "metadata": {},
   "outputs": [],
   "source": []
  }
 ],
 "metadata": {
  "kernelspec": {
   "display_name": "Python 3",
   "language": "python",
   "name": "python3"
  },
  "language_info": {
   "codemirror_mode": {
    "name": "ipython",
    "version": 3
   },
   "file_extension": ".py",
   "mimetype": "text/x-python",
   "name": "python",
   "nbconvert_exporter": "python",
   "pygments_lexer": "ipython3",
   "version": "3.6.3"
  }
 },
 "nbformat": 4,
 "nbformat_minor": 2
}
